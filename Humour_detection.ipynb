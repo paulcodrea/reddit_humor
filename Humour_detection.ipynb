{
  "cells": [
    {
      "cell_type": "markdown",
      "metadata": {
        "colab_type": "text",
        "id": "view-in-github"
      },
      "source": [
        "<a href=\"https://colab.research.google.com/github/paulcodrea/reddit_humor/blob/main/Humour_detection.ipynb\" target=\"_parent\"><img src=\"https://colab.research.google.com/assets/colab-badge.svg\" alt=\"Open In Colab\"/></a>"
      ]
    },
    {
      "cell_type": "code",
      "execution_count": 44,
      "metadata": {},
      "outputs": [],
      "source": [
        "# Get reddit /r/dadjokes data\n",
        "import requests\n",
        "import pandas as pd"
      ]
    },
    {
      "cell_type": "code",
      "execution_count": 45,
      "metadata": {},
      "outputs": [],
      "source": [
        "url = \"https://www.reddit.com/r/dadjokes.json\"\n",
        "resp = requests.get(url=url, headers = {'User-agent': 'Humour detection bot'}, params = {'limit': '100'})\n",
        "data = resp.json()\n",
        "data_list = []\n",
        "data_list.append(data)\n",
        "# repeat process 9 more times with updated 'after' param\n",
        "for i in range(20):\n",
        "  after_param = data['data']['after'] \n",
        "  data = requests.get(url=url, headers = {'User-agent': 'Humour detection bot'}, params = {'after': after_param, 'limit': '100'})\n",
        "  data_2 = data.json()\n",
        "  data_list.append(data_2)\n",
        "  data = data_2"
      ]
    },
    {
      "cell_type": "code",
      "execution_count": 46,
      "metadata": {},
      "outputs": [],
      "source": [
        "# create a list of all jokes in json format\n",
        "data = []\n",
        "for collection in data_list:\n",
        "  collection_list = collection['data']['children']\n",
        "  for joke_index in range(len(collection_list)):\n",
        "    data.append(collection_list[joke_index]['data'])"
      ]
    },
    {
      "cell_type": "markdown",
      "metadata": {
        "id": "f3R-7RcKXTzY"
      },
      "source": [
        "### Save only important columns in dataframe"
      ]
    },
    {
      "cell_type": "code",
      "execution_count": 48,
      "metadata": {
        "id": "f5mn3L3SXTzZ"
      },
      "outputs": [],
      "source": [
        "df = pd.DataFrame(data)\n",
        "clean_df = pd.DataFrame()\n",
        "\n",
        "clean_df['title'] = df['title']\n",
        "clean_df['selftext'] = df['selftext']\n",
        "clean_df['ups'] = df['ups']\n",
        "clean_df['downs'] = df['downs']\n",
        "clean_df['upvote_ratio'] = df['upvote_ratio']\n",
        "clean_df['total_awards_received'] = df['total_awards_received']"
      ]
    },
    {
      "cell_type": "markdown",
      "metadata": {
        "id": "_wfMpvJFXTza"
      },
      "source": [
        "### Plot the stats of the reddit jokes"
      ]
    },
    {
      "cell_type": "code",
      "execution_count": 53,
      "metadata": {},
      "outputs": [
        {
          "name": "stdout",
          "output_type": "stream",
          "text": [
            "Number of jokes with upvotes different from zero:  1882\n",
            "Number of jokes with no engagement:  128\n",
            "Average number of upvotes:  222.8407960199005\n",
            "Average upvote ratio:  0.8387611940298508\n"
          ]
        },
        {
          "data": {
            "image/png": "[encoded data removed]",
            "text/plain": [
              "<Figure size 720x720 with 1 Axes>"
            ]
          },
          "metadata": {},
          "output_type": "display_data"
        }
      ],
      "source": [
        "# print out as a pie chart how many jokes are funny or not\n",
        "from matplotlib import pyplot as plt\n",
        "\n",
        "# calculate number of posts with upvotes different grater than downvotes\n",
        "funny = clean_df[clean_df['ups'] > clean_df['downs']]\n",
        "# not_funny = clean_df[clean_df['ups'] <= clean_df['downs']]\n",
        "no_engagement = len(clean_df[(clean_df['ups'] == 0) & (clean_df['downs'] == 0)])\n",
        "\n",
        "\n",
        "#calculate how many have only upvotes and zero downvotes\n",
        "upvotes_count = downvotes_count = 0\n",
        "for index in range(len(clean_df)):\n",
        "    if clean_df['ups'][index] > 0:\n",
        "        upvotes_count += 1\n",
        "    # elif clean_df['downs'][index] > 0:\n",
        "    #     downvotes_count += 1\n",
        "\n",
        "print(\"Number of jokes with upvotes different from zero: \", upvotes_count)\n",
        "print(\"Number of jokes with no engagement: \", no_engagement)\n",
        "\n",
        "treshhold_ups = clean_df['ups'].mean()\n",
        "print(\"Average number of upvotes: \", treshhold_ups)\n",
        "threshold_ratio = clean_df['upvote_ratio'].mean()\n",
        "print(\"Average upvote ratio: \", threshold_ratio)\n",
        "\n",
        "\n",
        "funny_percentage = len(funny) / len(clean_df) * 100\n",
        "no_engagement_percentage = no_engagement / len(clean_df) * 100\n",
        "# not_funny_percentage = len(not_funny) / len(clean_df) * 100\n",
        "\n",
        "# set size of pie chart\n",
        "plt.figure(figsize=(10,10))\n",
        "plt.pie([funny_percentage, no_engagement_percentage], labels=['funny', 'not funny'], autopct='%1.1f%%', colors=['green', 'red'])\n",
        "plt.show()"
      ]
    },
    {
      "cell_type": "markdown",
      "metadata": {
        "id": "y7FOz4TnkUFP"
      },
      "source": [
        "Experimenting to find a threshold "
      ]
    },
    {
      "cell_type": "code",
      "execution_count": 55,
      "metadata": {
        "colab": {
          "base_uri": "https://localhost:8080/"
        },
        "id": "S30tUqCSXTzc",
        "outputId": "fddf9a39-9708-47dc-bba2-153c5df9af8a"
      },
      "outputs": [
        {
          "name": "stdout",
          "output_type": "stream",
          "text": [
            "total  2010\n",
            "not that funny but have awards  0\n",
            "funny  144\n",
            "funny ratio  0.07164179104477612\n"
          ]
        }
      ],
      "source": [
        "# average = 0\n",
        "# average_ratio = 0\n",
        "unfunny_but_awarded = 0\n",
        "funny = 0\n",
        "# hardcoded from the average and average_ratio variables\n",
        "# threshold = 212\n",
        "# threshold_ratio = 0.83\n",
        "\n",
        "jokes_dataset = pd.DataFrame()\n",
        "for index in range(len(clean_df)):\n",
        "\n",
        "  if clean_df['ups'][index] > treshhold_ups and clean_df['upvote_ratio'][index] > threshold_ratio:\n",
        "    jokes_dataset = jokes_dataset.append(clean_df.iloc[index])\n",
        "    funny = funny + 1\n",
        "  # if they don't have enough upvotes or ratio but have awards -> possible funny\n",
        "  # elif int(clean_df['total_awards_received'][index]) > 2 and clean_df['upvote_ratio'][index] > threshold_ratio:\n",
        "    # unfunny_but_awarded = unfunny_but_awarded +1\n",
        "\n",
        "  # average = average + clean_df['ups'][index]\n",
        "  # average_ratio = average_ratio + clean_df['upvote_ratio'][index]\n",
        "\n",
        "print('total ', len(clean_df))\n",
        "# print('average is ', str(average/len(clean_df)))\n",
        "# print('average ratio is ', str(average_ratio/len(clean_df)))\n",
        "print('not that funny but have awards ', unfunny_but_awarded)\n",
        "print('funny ', funny)\n",
        "print('funny ratio ', funny/len(clean_df))"
      ]
    },
    {
      "cell_type": "code",
      "execution_count": 61,
      "metadata": {
        "id": "nvvqkbuEpeYI"
      },
      "outputs": [
        {
          "name": "stdout",
          "output_type": "stream",
          "text": [
            "The highest length of title is  164\n",
            "The highest length og the joke is:  393\n"
          ]
        }
      ],
      "source": [
        "# add one more column to jokes_dataset with length of selftext\n",
        "jokes_dataset['title_length'] = jokes_dataset['title'].apply(len)\n",
        "jokes_dataset['selftext_length'] = jokes_dataset['selftext'].apply(len)\n",
        "print(\"The highest length of title is \", jokes_dataset['title_length'].max())\n",
        "print(\"The highest length og the joke is: \", max(jokes_dataset['selftext_length']))"
      ]
    },
    {
      "cell_type": "code",
      "execution_count": 62,
      "metadata": {},
      "outputs": [],
      "source": [
        "# save jokes_dataset in a csv file\n",
        "jokes_dataset.to_csv(f'reddit_funny_dadjokes({len(jokes_dataset)}).csv')"
      ]
    },
    {
      "cell_type": "code",
      "execution_count": null,
      "metadata": {},
      "outputs": [],
      "source": []
    }
  ],
  "metadata": {
    "colab": {
      "include_colab_link": true,
      "name": "Humour_detection.ipynb",
      "provenance": []
    },
    "kernelspec": {
      "display_name": "Python 3",
      "name": "python3"
    },
    "language_info": {
      "name": "python"
    }
  },
  "nbformat": 4,
  "nbformat_minor": 0
}
