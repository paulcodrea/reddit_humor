{
  "cells": [
    {
      "cell_type": "markdown",
      "metadata": {
        "colab_type": "text",
        "id": "view-in-github"
      },
      "source": [
        "<a href=\"https://colab.research.google.com/github/paulcodrea/reddit_humor/blob/main/Humour_detection.ipynb\" target=\"_parent\"><img src=\"https://colab.research.google.com/assets/colab-badge.svg\" alt=\"Open In Colab\"/></a>"
      ]
    },
    {
      "cell_type": "code",
      "execution_count": 6,
      "metadata": {
        "id": "GoyjEHw0iqih"
      },
      "outputs": [],
      "source": [
        "# Get reddit /r/dadjokes data\n",
        "import requests\n",
        "import pandas as pd\n",
        "\n",
        "url = \"https://www.reddit.com/r/dadjokes.json\"\n",
        "resp = requests.get(url=url, headers = {'User-agent': 'Humour detection bot'}, params = {'limit': '100'})\n",
        "data = resp.json()\n",
        "data_list = []\n",
        "data_list.append(data)\n",
        "# repeat process 9 more times with updated 'after' param\n",
        "for i in range(9):\n",
        "  after_param = data['data']['after'] \n",
        "  data = requests.get(url=url, headers = {'User-agent': 'Humour detection bot'}, params = {'after': after_param, 'limit': '100'})\n",
        "  data_2 = data.json()\n",
        "  data_list.append(data_2)\n",
        "  data = data_2"
      ]
    },
    {
      "cell_type": "code",
      "execution_count": 7,
      "metadata": {
        "id": "Q4ZBdAGWjWvV"
      },
      "outputs": [],
      "source": [
        "# create a list of all jokes in json format\n",
        "data = []\n",
        "for collection in data_list:\n",
        "  collection_list = collection['data']['children']\n",
        "  for joke_index in range(len(collection_list)):\n",
        "    data.append(collection_list[joke_index]['data'])"
      ]
    },
    {
      "cell_type": "markdown",
      "metadata": {},
      "source": [
        "### Save only important columns in dataframe"
      ]
    },
    {
      "cell_type": "code",
      "execution_count": 13,
      "metadata": {},
      "outputs": [],
      "source": [
        "df = pd.DataFrame(data)\n",
        "clean_df = pd.DataFrame()\n",
        "\n",
        "clean_df['title'] = df['title']\n",
        "clean_df['selftext'] = df['selftext']\n",
        "clean_df['ups'] = df['ups']\n",
        "clean_df['downs'] = df['downs']\n",
        "clean_df['upvote_ratio'] = df['upvote_ratio']\n",
        "clean_df['total_awards_received'] = df['total_awards_received']"
      ]
    },
    {
      "cell_type": "code",
      "execution_count": 24,
      "metadata": {},
      "outputs": [],
      "source": [
        "# save the jokes in a csv file for later use\n",
        "clean_df.to_csv(f'1_reddit_dadjokes({len(clean_df)}).csv')"
      ]
    },
    {
      "cell_type": "markdown",
      "metadata": {},
      "source": [
        "### Plot the stats of the reddit jokes"
      ]
    },
    {
      "cell_type": "code",
      "execution_count": 23,
      "metadata": {},
      "outputs": [
        {
          "name": "stdout",
          "output_type": "stream",
          "text": [
            "Number of jokes with upvotes different from zero:  893\n",
            "Number of jokes with downvotes different from zero:  0\n",
            "Number of jokes with no engagement:  64\n",
            "Average upvote ratio:  0.8353709508881924\n"
          ]
        },
        {
          "data": {
            "image/png": "[encoded data removed]",
            "text/plain": [
              "<Figure size 720x720 with 1 Axes>"
            ]
          },
          "metadata": {},
          "output_type": "display_data"
        }
      ],
      "source": [
        "# print out as a pie chart how many jokes are funny or not\n",
        "from matplotlib import pyplot as plt\n",
        "\n",
        "# calculate number of posts with upvotes different grater than downvotes\n",
        "funny = clean_df[clean_df['ups'] > clean_df['downs']]\n",
        "not_funny = clean_df[clean_df['ups'] <= clean_df['downs']]\n",
        "no_engagement = len(clean_df[(clean_df['ups'] == 0) & (clean_df['downs'] == 0)])\n",
        "\n",
        "\n",
        "#calculate how many have only upvotes and zero downvotes\n",
        "upvotes_count = downvotes_count = 0\n",
        "for index in range(len(clean_df)):\n",
        "    if clean_df['ups'][index] > 0:\n",
        "        upvotes_count += 1\n",
        "    elif clean_df['downs'][index] > 0:\n",
        "        downvotes_count += 1\n",
        "\n",
        "print(\"Number of jokes with upvotes different from zero: \", upvotes_count)\n",
        "print(\"Number of jokes with downvotes different from zero: \", downvotes_count)\n",
        "print(\"Number of jokes with no engagement: \", no_engagement)\n",
        "\n",
        "# print average of the upvote ratio\n",
        "print(\"Average upvote ratio: \", clean_df['upvote_ratio'].mean())\n",
        "\n",
        "\n",
        "funny_percentage = len(funny) / len(clean_df) * 100\n",
        "not_funny_percentage = len(not_funny) / len(clean_df) * 100\n",
        "\n",
        "# set size of pie chart\n",
        "plt.figure(figsize=(10,10))\n",
        "plt.pie([funny_percentage, not_funny_percentage], labels=['funny', 'not funny'], autopct='%1.1f%%', colors=['green', 'red'])\n",
        "plt.show()"
      ]
    },
    {
      "cell_type": "code",
      "execution_count": null,
      "metadata": {},
      "outputs": [],
      "source": []
    }
  ],
  "metadata": {
    "colab": {
      "include_colab_link": true,
      "name": "Humour_detection.ipynb",
      "provenance": []
    },
    "kernelspec": {
      "display_name": "Python 3",
      "name": "python3"
    },
    "language_info": {
      "name": "python"
    }
  },
  "nbformat": 4,
  "nbformat_minor": 0
}
