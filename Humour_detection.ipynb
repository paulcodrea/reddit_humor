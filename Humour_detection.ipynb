{
  "cells": [
    {
      "cell_type": "markdown",
      "metadata": {
        "colab_type": "text",
        "id": "view-in-github"
      },
      "source": [
        "<a href=\"https://colab.research.google.com/github/paulcodrea/reddit_humor/blob/main/Humour_detection.ipynb\" target=\"_parent\"><img src=\"https://colab.research.google.com/assets/colab-badge.svg\" alt=\"Open In Colab\"/></a>"
      ]
    },
    {
      "cell_type": "code",
      "execution_count": 1,
      "metadata": {
        "id": "o1_DyllE0pbH"
      },
      "outputs": [],
      "source": [
        "import requests\n",
        "import pandas as pd"
      ]
    },
    {
      "cell_type": "markdown",
      "metadata": {
        "id": "K5sJJRgw28QT"
      },
      "source": [
        "### Defining methods useful for scraping the Reddit threads\n"
      ]
    },
    {
      "cell_type": "code",
      "execution_count": 24,
      "metadata": {
        "id": "b4H-JgsV3B5k"
      },
      "outputs": [],
      "source": [
        "def scrape_url(url, pages=0):\n",
        "  \"\"\" \n",
        "  Scrapes a url and returns a list.\n",
        "  \"\"\"\n",
        "\n",
        "  resp = requests.get(url=url, headers = {'User-agent': 'Humour detection bot'}, params = {'limit': '100'})\n",
        "  data = resp.json()\n",
        "  ret = []\n",
        "  ret.append(data)\n",
        "  \n",
        "  # if more than 100 data points are needed:\n",
        "  if pages != 0:\n",
        "    for i in range(pages):\n",
        "      after_param = data['data']['after'] \n",
        "      data = requests.get(url=url, headers = {'User-agent': 'Humour detection bot'}, params = {'after': after_param, 'limit': '100'})\n",
        "      data_2 = data.json()\n",
        "      ret.append(data_2)\n",
        "      data = data_2\n",
        "\n",
        "  return ret\n",
        "\n",
        "def make_list_from_json(json_list):\n",
        "  \"\"\"\n",
        "  Makes a list from a json list.\n",
        "  \"\"\"\n",
        "\n",
        "  ret = []\n",
        "  for collection in json_list:\n",
        "    collection_list = collection['data']['children']\n",
        "    for joke_index in range(len(collection_list)):\n",
        "      ret.append(collection_list[joke_index]['data'])\n",
        "  return ret\n",
        "\n",
        "def transform_data(data):\n",
        "  \"\"\" \n",
        "  Transforms data to a dataframe. Ans only keeps the columns that are needed.\n",
        "  \"\"\"\n",
        "  df = pd.DataFrame(data)\n",
        "  ret = pd.DataFrame()\n",
        "\n",
        "  ret['title'] = df['title']\n",
        "  ret['selftext'] = df['selftext']\n",
        "  ret['ups'] = df['ups']\n",
        "  ret['downs'] = df['downs']\n",
        "  ret['upvote_ratio'] = df['upvote_ratio']\n",
        "  ret['total_awards_received'] = df['total_awards_received']\n",
        "\n",
        "  return ret\n",
        "\n",
        "def preprocess(data):\n",
        "  \"\"\"\n",
        "  Preprocesses data to concatenate title and punchline into one string.\n",
        "  \"\"\"\n",
        "\n",
        "  data['joke'] = ''\n",
        "  for joke_index in range(len(data)):\n",
        "    title = data['title'][joke_index]\n",
        "    separator = ' '\n",
        "    if title[len(title) - 1].isalpha():\n",
        "        separator = '. '\n",
        "    data['joke'][joke_index] = data['title'][joke_index] + separator + data['selftext'][joke_index] \n",
        "    joke = data['joke'][joke_index]\n",
        "    if joke[len(joke) - 1].isalpha():\n",
        "      data['joke'][joke_index] = joke + '.'\n",
        "\n",
        "  return data"
      ]
    },
    {
      "cell_type": "markdown",
      "metadata": {
        "id": "cFcJ67yu2W0_"
      },
      "source": [
        "# Scraping r/dadjokes\n"
      ]
    },
    {
      "cell_type": "code",
      "execution_count": 3,
      "metadata": {
        "id": "7gxCeyWG0pbK"
      },
      "outputs": [],
      "source": [
        "url = \"https://www.reddit.com/r/dadjokes.json\"\n",
        "data = scrape_url(url, 100)\n",
        "data = make_list_from_json(data)"
      ]
    },
    {
      "cell_type": "markdown",
      "metadata": {
        "id": "f3R-7RcKXTzY"
      },
      "source": [
        "### Save only important columns in dataframe"
      ]
    },
    {
      "cell_type": "code",
      "execution_count": 4,
      "metadata": {
        "id": "f5mn3L3SXTzZ"
      },
      "outputs": [],
      "source": [
        "clean_df = transform_data(data)"
      ]
    },
    {
      "cell_type": "markdown",
      "metadata": {
        "id": "_wfMpvJFXTza"
      },
      "source": [
        "### Plot the stats of the reddit jokes"
      ]
    },
    {
      "cell_type": "code",
      "execution_count": 33,
      "metadata": {
        "colab": {
          "base_uri": "https://localhost:8080/",
          "height": 646
        },
        "id": "XAPmfh9i0pbO",
        "outputId": "81fa0583-7ca8-4490-b3df-59b7c3b24dd1"
      },
      "outputs": [
        {
          "name": "stdout",
          "output_type": "stream",
          "text": [
            "Number of jokes with upvotes different from zero:  8960\n",
            "Number of jokes with no engagement:  568\n",
            "Average number of upvotes:  228.58354324097397\n",
            "Average upvote ratio:  0.842445424013434\n"
          ]
        },
        {
          "data": {
            "image/png": "[encoded data removed]",
            "text/plain": [
              "<Figure size 288x288 with 1 Axes>"
            ]
          },
          "metadata": {},
          "output_type": "display_data"
        }
      ],
      "source": [
        "# print out as a pie chart how many jokes are funny or not\n",
        "from matplotlib import pyplot as plt\n",
        "\n",
        "# calculate number of posts with upvotes different grater than downvotes\n",
        "funny = clean_df[clean_df['ups'] > clean_df['downs']]\n",
        "# not_funny = clean_df[clean_df['ups'] <= clean_df['downs']]\n",
        "no_engagement = len(clean_df[(clean_df['ups'] == 0) & (clean_df['downs'] == 0)])\n",
        "\n",
        "\n",
        "#calculate how many have only upvotes and zero downvotes\n",
        "upvotes_count = downvotes_count = 0\n",
        "for index in range(len(clean_df)):\n",
        "    if clean_df['ups'][index] > 0:\n",
        "        upvotes_count += 1\n",
        "\n",
        "print(\"Number of jokes with upvotes different from zero: \", upvotes_count)\n",
        "print(\"Number of jokes with no engagement: \", no_engagement)\n",
        "\n",
        "treshhold_ups = clean_df['ups'].mean()\n",
        "print(\"Average number of upvotes: \", treshhold_ups)\n",
        "threshold_ratio = clean_df['upvote_ratio'].mean()\n",
        "print(\"Average upvote ratio: \", threshold_ratio)\n",
        "\n",
        "\n",
        "funny_percentage = len(funny) / len(clean_df) * 100\n",
        "no_engagement_percentage = no_engagement / len(clean_df) * 100\n",
        "\n",
        "\n",
        "plt.figure(figsize=(4,4))\n",
        "plt.pie([funny_percentage, no_engagement_percentage], labels=['funny', 'not funny'], autopct='%1.1f%%', colors=['green', 'red'])\n",
        "plt.show()"
      ]
    },
    {
      "cell_type": "markdown",
      "metadata": {
        "id": "y7FOz4TnkUFP"
      },
      "source": [
        "Experimenting to find a threshold "
      ]
    },
    {
      "cell_type": "code",
      "execution_count": 6,
      "metadata": {
        "colab": {
          "base_uri": "https://localhost:8080/"
        },
        "id": "S30tUqCSXTzc",
        "outputId": "ba414015-4595-48d8-fafd-96b0d7b4851b"
      },
      "outputs": [
        {
          "name": "stdout",
          "output_type": "stream",
          "text": [
            "total  9528\n",
            "not that funny but have awards  0\n",
            "funny  683\n",
            "funny ratio  0.07168345927791772\n"
          ]
        }
      ],
      "source": [
        "unfunny_but_awarded = 0\n",
        "funny = 0\n",
        "count = 0\n",
        "jokes_dataset = pd.DataFrame()\n",
        "for index in range(len(clean_df)):\n",
        "\n",
        "  if clean_df['ups'][index] > treshhold_ups and clean_df['upvote_ratio'][index] > threshold_ratio:\n",
        "    jokes_dataset = jokes_dataset.append(clean_df.iloc[count])\n",
        "    count = count + 1\n",
        "    funny = funny + 1\n",
        "\n",
        "\n",
        "\n",
        "print('total ', len(clean_df))\n",
        "print('not that funny but have awards ', unfunny_but_awarded)\n",
        "print('funny ', funny)\n",
        "print('funny ratio ', funny/len(clean_df))"
      ]
    },
    {
      "cell_type": "code",
      "execution_count": 7,
      "metadata": {
        "colab": {
          "base_uri": "https://localhost:8080/"
        },
        "id": "nvvqkbuEpeYI",
        "outputId": "53fa0f40-b06a-4e35-b58e-b941c8c9099d"
      },
      "outputs": [
        {
          "name": "stdout",
          "output_type": "stream",
          "text": [
            "The highest length of title is  260\n",
            "The highest length og the joke is:  1778\n"
          ]
        }
      ],
      "source": [
        "# add one more column to jokes_dataset with length of selftext\n",
        "jokes_dataset['title_length'] = jokes_dataset['title'].apply(len)\n",
        "jokes_dataset['selftext_length'] = jokes_dataset['selftext'].apply(len)\n",
        "print(\"The highest length of title is \", jokes_dataset['title_length'].max())\n",
        "print(\"The highest length og the joke is: \", jokes_dataset['selftext_length'].max())"
      ]
    },
    {
      "cell_type": "code",
      "execution_count": 8,
      "metadata": {
        "id": "rJaedS020pbR"
      },
      "outputs": [],
      "source": [
        "# save jokes_dataset in a csv file\n",
        "jokes_dataset.to_csv(f'reddit_funny_dadjokes({len(jokes_dataset)}).csv')"
      ]
    },
    {
      "cell_type": "markdown",
      "metadata": {
        "id": "8bnym-oJ2g7A"
      },
      "source": [
        "# Scraping r/badjokes\n"
      ]
    },
    {
      "cell_type": "code",
      "execution_count": 9,
      "metadata": {
        "id": "zS1CQFiK2lS1"
      },
      "outputs": [],
      "source": [
        "# Get reddit /r/badjokes data\n",
        "url = \"https://www.reddit.com/r/badjokes.json\"\n",
        "data_neg = scrape_url(url, 5)\n",
        "data_neg = make_list_from_json(data_neg)"
      ]
    },
    {
      "cell_type": "markdown",
      "metadata": {
        "id": "bmF6tVWq2yu7"
      },
      "source": [
        "### Save only important columns in dataframe"
      ]
    },
    {
      "cell_type": "code",
      "execution_count": 10,
      "metadata": {
        "id": "gdLGrfYa2zor"
      },
      "outputs": [],
      "source": [
        "badjokes_dataset = transform_data(data_neg)"
      ]
    },
    {
      "cell_type": "code",
      "execution_count": 11,
      "metadata": {
        "colab": {
          "base_uri": "https://localhost:8080/"
        },
        "id": "l0hVTy5h6Cxe",
        "outputId": "3eb83483-51f3-4d2e-d0d6-ff527ed102d8"
      },
      "outputs": [
        {
          "name": "stdout",
          "output_type": "stream",
          "text": [
            "600\n"
          ]
        }
      ],
      "source": [
        "print(len(badjokes_dataset))"
      ]
    },
    {
      "cell_type": "code",
      "execution_count": 12,
      "metadata": {
        "id": "pZP8UOjE63TD"
      },
      "outputs": [],
      "source": [
        "# save jokes_dataset in a csv file\n",
        "badjokes_dataset.to_csv(f'reddit_badjokes({len(badjokes_dataset)}).csv')"
      ]
    },
    {
      "cell_type": "markdown",
      "metadata": {},
      "source": [
        "### Create a single dataframe with all content and 0/1 "
      ]
    },
    {
      "cell_type": "code",
      "execution_count": 22,
      "metadata": {},
      "outputs": [
        {
          "name": "stdout",
          "output_type": "stream",
          "text": [
            "                                               title  \\\n",
            "0                 What's so good about Soviet Ubers?   \n",
            "1                             Why was 9 afraid of 7?   \n",
            "2     What's a candle's favorite Keanu Reeves movie?   \n",
            "3  No-one in the Government has played Hospital T...   \n",
            "4           What is the most pathetic kind of shape?   \n",
            "\n",
            "                         selftext  ups  downs  upvote_ratio  \\\n",
            "0          They're always Russian  194      0          1.00   \n",
            "1  7 was a registered 6 offender.  385      0          0.99   \n",
            "2                       John Wick  120      0          1.00   \n",
            "3                                   51      0          0.97   \n",
            "4                  \\n\\nRektangles   68      0          0.99   \n",
            "\n",
            "   total_awards_received  funny  \n",
            "0                      3      0  \n",
            "1                      3      0  \n",
            "2                      0      0  \n",
            "3                      0      0  \n",
            "4                      0      0  \n"
          ]
        }
      ],
      "source": [
        "# Create one more column for jokes_dataset filles with 1\n",
        "jokes_dataset['funny'] = 1\n",
        "badjokes_dataset['funny'] = 0"
      ]
    },
    {
      "cell_type": "markdown",
      "metadata": {
        "id": "cTY6U2yaSKEw"
      },
      "source": [
        "### Data Pre-processing - WIP\n",
        "\n",
        "### and save the final_df with jokes."
      ]
    },
    {
      "cell_type": "code",
      "execution_count": null,
      "metadata": {
        "colab": {
          "base_uri": "https://localhost:8080/"
        },
        "id": "Uzb85_UzSOfS",
        "outputId": "adeb8a01-cd0b-4afa-f692-12deb8832d47"
      },
      "outputs": [],
      "source": [
        "jokes_dataset = preprocess(jokes_dataset)\n",
        "badjokes_dataset = preprocess(badjokes_dataset)\n",
        "\n",
        "# create final_df with jokes_dataset specific columns\n",
        "final_df = pd.DataFrame()\n",
        "final_df['joke'] = jokes_dataset['joke']\n",
        "final_df['funny'] = jokes_dataset['funny']\n",
        "\n",
        "#concat to final_df with badjokes_dataset specific columns\n",
        "final_df = final_df.append(badjokes_dataset, ignore_index=True)\n",
        "# remove title, selftext, ups, downs, upvote_ratio, total_awards_received\n",
        "final_df = final_df.drop(['title', 'selftext', 'ups', 'downs', 'upvote_ratio', 'total_awards_received'], axis=1)"
      ]
    },
    {
      "cell_type": "code",
      "execution_count": 29,
      "metadata": {},
      "outputs": [],
      "source": [
        "# save final_df in a csv file\n",
        "final_df.to_csv(f'final_jokes({len(final_df)}).csv')"
      ]
    },
    {
      "cell_type": "markdown",
      "metadata": {
        "id": "CLasb865klgW"
      },
      "source": [
        "### Experiment with similarity scores"
      ]
    },
    {
      "cell_type": "code",
      "execution_count": 30,
      "metadata": {
        "colab": {
          "base_uri": "https://localhost:8080/"
        },
        "id": "QTZN2z5jnakm",
        "outputId": "a16c2f1c-ed53-43c9-d50f-2f35f4f21f3c"
      },
      "outputs": [
        {
          "name": "stdout",
          "output_type": "stream",
          "text": [
            "651\n"
          ]
        }
      ],
      "source": [
        "normalised_jokes = []\n",
        "for joke_index in range(len(jokes_dataset)):\n",
        "  if jokes_dataset['title_length'][joke_index] + jokes_dataset['selftext_length'][joke_index] < 200:\n",
        "    normalised_jokes.append(joke_index)\n",
        "print(len(normalised_jokes))"
      ]
    },
    {
      "cell_type": "code",
      "execution_count": 31,
      "metadata": {
        "colab": {
          "base_uri": "https://localhost:8080/"
        },
        "id": "cRhf1HR_dxMa",
        "outputId": "168e20df-b760-4cce-d3ab-b3911c135816"
      },
      "outputs": [
        {
          "name": "stderr",
          "output_type": "stream",
          "text": [
            "C:\\Users\\paulc\\AppData\\Local\\Temp/ipykernel_20360/3608984461.py:18: SettingWithCopyWarning: \n",
            "A value is trying to be set on a copy of a slice from a DataFrame\n",
            "\n",
            "See the caveats in the documentation: https://pandas.pydata.org/pandas-docs/stable/user_guide/indexing.html#returning-a-view-versus-a-copy\n",
            "  jokes_dataset['similarity'][joke_index] = final_score\n"
          ]
        },
        {
          "name": "stdout",
          "output_type": "stream",
          "text": [
            "I went to get pizza the other day and they asked if I wanted it cut into eight slices. I told them there’s no way I can eat eight slices in one sitting and had them cut it into four.\n"
          ]
        }
      ],
      "source": [
        "from difflib import SequenceMatcher\n",
        "\n",
        "max = 0\n",
        "index_similar = 0\n",
        "jokes_dataset['similarity'] = ''\n",
        "for joke_index in range(len(jokes_dataset)):\n",
        "  title = jokes_dataset['title'][joke_index]\n",
        "  text = jokes_dataset['selftext'][joke_index]\n",
        "\n",
        "  title_words = title.split()\n",
        "  text_words = text.split()\n",
        "  final_score = 0\n",
        "  for title_word in title_words:\n",
        "    for text_word in text_words:\n",
        "      s = SequenceMatcher(None,title_word,text_word)\n",
        "      match_freq = s.ratio()\n",
        "      final_score += 1\n",
        "  jokes_dataset['similarity'][joke_index] = final_score\n",
        "  if final_score > max and joke_index in normalised_jokes:\n",
        "    index_similar = joke_index\n",
        "    max = final_score\n",
        "print(jokes_dataset['joke'][index_similar])\n"
      ]
    }
  ],
  "metadata": {
    "colab": {
      "include_colab_link": true,
      "name": "Humour_detection.ipynb",
      "provenance": []
    },
    "kernelspec": {
      "display_name": "Python 3",
      "name": "python3"
    },
    "language_info": {
      "codemirror_mode": {
        "name": "ipython",
        "version": 3
      },
      "file_extension": ".py",
      "mimetype": "text/x-python",
      "name": "python",
      "nbconvert_exporter": "python",
      "pygments_lexer": "ipython3",
      "version": "3.9.7"
    }
  },
  "nbformat": 4,
  "nbformat_minor": 0
}
