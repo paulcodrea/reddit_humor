{
  "cells": [
    {
      "cell_type": "markdown",
      "metadata": {
        "id": "view-in-github",
        "colab_type": "text"
      },
      "source": [
        "<a href=\"https://colab.research.google.com/github/paulcodrea/reddit_humor/blob/main/Humour_detection.ipynb\" target=\"_parent\"><img src=\"https://colab.research.google.com/assets/colab-badge.svg\" alt=\"Open In Colab\"/></a>"
      ]
    },
    {
      "cell_type": "code",
      "execution_count": 22,
      "metadata": {
        "id": "GoyjEHw0iqih"
      },
      "outputs": [],
      "source": [
        "# Get reddit /r/dadjokes data\n",
        "import requests\n",
        "import pandas as pd\n",
        "\n",
        "url = \"https://www.reddit.com/r/dadjokes.json\"\n",
        "resp = requests.get(url=url, headers = {'User-agent': 'Humour detection bot'}, params = {'limit': '100'})\n",
        "data = resp.json()\n",
        "data_list = []\n",
        "data_list.append(data)\n",
        "# repeat process 9 more times with updated 'after' param\n",
        "for i in range(50):\n",
        "  after_param = data['data']['after'] \n",
        "  data = requests.get(url=url, headers = {'User-agent': 'Humour detection bot'}, params = {'after': after_param, 'limit': '100'})\n",
        "  data_2 = data.json()\n",
        "  data_list.append(data_2)\n",
        "  data = data_2"
      ]
    },
    {
      "cell_type": "code",
      "execution_count": 24,
      "metadata": {
        "id": "Q4ZBdAGWjWvV"
      },
      "outputs": [],
      "source": [
        "# create a list of all jokes in json format\n",
        "data = []\n",
        "for collection in data_list:\n",
        "  collection_list = collection['data']['children']\n",
        "  for joke_index in range(len(collection_list)):\n",
        "    data.append(collection_list[joke_index]['data'])"
      ]
    },
    {
      "cell_type": "code",
      "source": [
        "print(data[0])\n",
        "print(data[0]['ups'])\n",
        "print(data[0]['upvote_ratio'])"
      ],
      "metadata": {
        "id": "MMo27x2zd3-2",
        "outputId": "bd8c6021-4871-473f-fa95-29740edb2d97",
        "colab": {
          "base_uri": "https://localhost:8080/"
        }
      },
      "execution_count": 33,
      "outputs": [
        {
          "output_type": "stream",
          "name": "stdout",
          "text": [
            "{'approved_at_utc': None, 'subreddit': 'dadjokes', 'selftext': 'Thunder wear.', 'author_fullname': 't2_eadxaxh3', 'saved': False, 'mod_reason_title': None, 'gilded': 0, 'clicked': False, 'title': 'what do clouds wear?', 'link_flair_richtext': [], 'subreddit_name_prefixed': 'r/dadjokes', 'hidden': False, 'pwls': 6, 'link_flair_css_class': None, 'downs': 0, 'thumbnail_height': None, 'top_awarded_type': None, 'hide_score': False, 'name': 't3_u7u5mf', 'quarantine': False, 'link_flair_text_color': 'dark', 'upvote_ratio': 0.98, 'author_flair_background_color': None, 'subreddit_type': 'public', 'ups': 646, 'total_awards_received': 1, 'media_embed': {}, 'thumbnail_width': None, 'author_flair_template_id': None, 'is_original_content': False, 'user_reports': [], 'secure_media': None, 'is_reddit_media_domain': False, 'is_meta': False, 'category': None, 'secure_media_embed': {}, 'link_flair_text': None, 'can_mod_post': False, 'score': 646, 'approved_by': None, 'is_created_from_ads_ui': False, 'author_premium': False, 'thumbnail': 'self', 'edited': False, 'author_flair_css_class': None, 'author_flair_richtext': [], 'gildings': {}, 'content_categories': None, 'is_self': True, 'mod_note': None, 'created': 1650453525.0, 'link_flair_type': 'text', 'wls': 6, 'removed_by_category': None, 'banned_by': None, 'author_flair_type': 'text', 'domain': 'self.dadjokes', 'allow_live_comments': True, 'selftext_html': '&lt;!-- SC_OFF --&gt;&lt;div class=\"md\"&gt;&lt;p&gt;Thunder wear.&lt;/p&gt;\\n&lt;/div&gt;&lt;!-- SC_ON --&gt;', 'likes': None, 'suggested_sort': None, 'banned_at_utc': None, 'view_count': None, 'archived': False, 'no_follow': False, 'is_crosspostable': False, 'pinned': False, 'over_18': False, 'all_awardings': [{'giver_coin_reward': None, 'subreddit_id': None, 'is_new': False, 'days_of_drip_extension': None, 'coin_price': 125, 'id': 'award_5f123e3d-4f48-42f4-9c11-e98b566d5897', 'penny_donate': None, 'award_sub_type': 'GLOBAL', 'coin_reward': 0, 'icon_url': 'https://i.redd.it/award_images/t5_22cerq/5izbv4fn0md41_Wholesome.png', 'days_of_premium': None, 'tiers_by_required_awardings': None, 'resized_icons': [{'url': 'https://preview.redd.it/award_images/t5_22cerq/5izbv4fn0md41_Wholesome.png?width=16&amp;height=16&amp;auto=webp&amp;s=92932f465d58e4c16b12b6eac4ca07d27e3d11c0', 'width': 16, 'height': 16}, {'url': 'https://preview.redd.it/award_images/t5_22cerq/5izbv4fn0md41_Wholesome.png?width=32&amp;height=32&amp;auto=webp&amp;s=d11484a208d68a318bf9d4fcf371171a1cb6a7ef', 'width': 32, 'height': 32}, {'url': 'https://preview.redd.it/award_images/t5_22cerq/5izbv4fn0md41_Wholesome.png?width=48&amp;height=48&amp;auto=webp&amp;s=febdf28b6f39f7da7eb1365325b85e0bb49a9f63', 'width': 48, 'height': 48}, {'url': 'https://preview.redd.it/award_images/t5_22cerq/5izbv4fn0md41_Wholesome.png?width=64&amp;height=64&amp;auto=webp&amp;s=b4406a2d88bf86fa3dc8a45aacf7e0c7bdccc4fb', 'width': 64, 'height': 64}, {'url': 'https://preview.redd.it/award_images/t5_22cerq/5izbv4fn0md41_Wholesome.png?width=128&amp;height=128&amp;auto=webp&amp;s=19555b13e3e196b62eeb9160d1ac1d1b372dcb0b', 'width': 128, 'height': 128}], 'icon_width': 2048, 'static_icon_width': 2048, 'start_date': None, 'is_enabled': True, 'awardings_required_to_grant_benefits': None, 'description': 'When you come across a feel-good thing.', 'end_date': None, 'subreddit_coin_reward': 0, 'count': 1, 'static_icon_height': 2048, 'name': 'Wholesome', 'resized_static_icons': [{'url': 'https://preview.redd.it/award_images/t5_22cerq/5izbv4fn0md41_Wholesome.png?width=16&amp;height=16&amp;auto=webp&amp;s=92932f465d58e4c16b12b6eac4ca07d27e3d11c0', 'width': 16, 'height': 16}, {'url': 'https://preview.redd.it/award_images/t5_22cerq/5izbv4fn0md41_Wholesome.png?width=32&amp;height=32&amp;auto=webp&amp;s=d11484a208d68a318bf9d4fcf371171a1cb6a7ef', 'width': 32, 'height': 32}, {'url': 'https://preview.redd.it/award_images/t5_22cerq/5izbv4fn0md41_Wholesome.png?width=48&amp;height=48&amp;auto=webp&amp;s=febdf28b6f39f7da7eb1365325b85e0bb49a9f63', 'width': 48, 'height': 48}, {'url': 'https://preview.redd.it/award_images/t5_22cerq/5izbv4fn0md41_Wholesome.png?width=64&amp;height=64&amp;auto=webp&amp;s=b4406a2d88bf86fa3dc8a45aacf7e0c7bdccc4fb', 'width': 64, 'height': 64}, {'url': 'https://preview.redd.it/award_images/t5_22cerq/5izbv4fn0md41_Wholesome.png?width=128&amp;height=128&amp;auto=webp&amp;s=19555b13e3e196b62eeb9160d1ac1d1b372dcb0b', 'width': 128, 'height': 128}], 'icon_format': None, 'icon_height': 2048, 'penny_price': None, 'award_type': 'global', 'static_icon_url': 'https://i.redd.it/award_images/t5_22cerq/5izbv4fn0md41_Wholesome.png'}], 'awarders': [], 'media_only': False, 'can_gild': False, 'spoiler': False, 'locked': False, 'author_flair_text': None, 'treatment_tags': [], 'visited': False, 'removed_by': None, 'num_reports': None, 'distinguished': None, 'subreddit_id': 't5_2t0no', 'author_is_blocked': False, 'mod_reason_by': None, 'removal_reason': None, 'link_flair_background_color': '', 'id': 'u7u5mf', 'is_robot_indexable': True, 'report_reasons': None, 'author': 'iLiKe-BeAnS', 'discussion_type': None, 'num_comments': 25, 'send_replies': True, 'whitelist_status': 'all_ads', 'contest_mode': False, 'mod_reports': [], 'author_patreon_flair': False, 'author_flair_text_color': None, 'permalink': '/r/dadjokes/comments/u7u5mf/what_do_clouds_wear/', 'parent_whitelist_status': 'all_ads', 'stickied': False, 'url': 'https://www.reddit.com/r/dadjokes/comments/u7u5mf/what_do_clouds_wear/', 'subreddit_subscribers': 5470299, 'created_utc': 1650453525.0, 'num_crossposts': 0, 'media': None, 'is_video': False}\n",
            "646\n",
            "0.98\n"
          ]
        }
      ]
    },
    {
      "cell_type": "markdown",
      "metadata": {
        "id": "f3R-7RcKXTzY"
      },
      "source": [
        "### Save only important columns in dataframe"
      ]
    },
    {
      "cell_type": "code",
      "execution_count": 25,
      "metadata": {
        "id": "f5mn3L3SXTzZ"
      },
      "outputs": [],
      "source": [
        "df = pd.DataFrame(data)\n",
        "clean_df = pd.DataFrame()\n",
        "\n",
        "clean_df['title'] = df['title']\n",
        "clean_df['selftext'] = df['selftext']\n",
        "clean_df['ups'] = df['ups']\n",
        "clean_df['downs'] = df['downs']\n",
        "clean_df['upvote_ratio'] = df['upvote_ratio']\n",
        "clean_df['total_awards_received'] = df['total_awards_received']"
      ]
    },
    {
      "cell_type": "code",
      "execution_count": 8,
      "metadata": {
        "id": "nDbNiXqpXTza"
      },
      "outputs": [],
      "source": [
        "# save the jokes in a csv file for later use\n",
        "clean_df.to_csv(f'1_reddit_dadjokes({len(clean_df)}).csv')"
      ]
    },
    {
      "cell_type": "markdown",
      "metadata": {
        "id": "_wfMpvJFXTza"
      },
      "source": [
        "### Plot the stats of the reddit jokes"
      ]
    },
    {
      "cell_type": "code",
      "execution_count": 26,
      "metadata": {
        "id": "HkF2PQ4nXTza",
        "outputId": "c4ed90b2-129c-46fd-cef3-8f6ec4d9e25d",
        "colab": {
          "base_uri": "https://localhost:8080/",
          "height": 646
        }
      },
      "outputs": [
        {
          "output_type": "stream",
          "name": "stdout",
          "text": [
            "Number of jokes with upvotes different from zero:  4544\n",
            "Number of jokes with downvotes different from zero:  0\n",
            "Number of jokes with no engagement:  326\n",
            "Average upvote ratio:  0.8343860369609901\n"
          ]
        },
        {
          "output_type": "display_data",
          "data": {
            "text/plain": [
              "<Figure size 720x720 with 1 Axes>"
            ],
            "image/png": "[encoded data removed]"
          },
          "metadata": {}
        }
      ],
      "source": [
        "# print out as a pie chart how many jokes are funny or not\n",
        "from matplotlib import pyplot as plt\n",
        "\n",
        "# calculate number of posts with upvotes different grater than downvotes\n",
        "funny = clean_df[clean_df['ups'] > clean_df['downs']]\n",
        "not_funny = clean_df[clean_df['ups'] <= clean_df['downs']]\n",
        "no_engagement = len(clean_df[(clean_df['ups'] == 0) & (clean_df['downs'] == 0)])\n",
        "\n",
        "\n",
        "#calculate how many have only upvotes and zero downvotes\n",
        "upvotes_count = downvotes_count = 0\n",
        "for index in range(len(clean_df)):\n",
        "    if clean_df['ups'][index] > 0:\n",
        "        upvotes_count += 1\n",
        "    elif clean_df['downs'][index] > 0:\n",
        "        downvotes_count += 1\n",
        "\n",
        "print(\"Number of jokes with upvotes different from zero: \", upvotes_count)\n",
        "print(\"Number of jokes with downvotes different from zero: \", downvotes_count)\n",
        "print(\"Number of jokes with no engagement: \", no_engagement)\n",
        "\n",
        "# print average of the upvote ratio\n",
        "print(\"Average upvote ratio: \", clean_df['upvote_ratio'].mean())\n",
        "\n",
        "\n",
        "funny_percentage = len(funny) / len(clean_df) * 100\n",
        "not_funny_percentage = len(not_funny) / len(clean_df) * 100\n",
        "\n",
        "# set size of pie chart\n",
        "plt.figure(figsize=(10,10))\n",
        "plt.pie([funny_percentage, not_funny_percentage], labels=['funny', 'not funny'], autopct='%1.1f%%', colors=['green', 'red'])\n",
        "plt.show()"
      ]
    },
    {
      "cell_type": "code",
      "source": [
        ""
      ],
      "metadata": {
        "id": "9sI1jrCkZnCq"
      },
      "execution_count": null,
      "outputs": []
    },
    {
      "cell_type": "markdown",
      "source": [
        "Experimenting to find a threshold "
      ],
      "metadata": {
        "id": "y7FOz4TnkUFP"
      }
    },
    {
      "cell_type": "code",
      "execution_count": 43,
      "metadata": {
        "id": "S30tUqCSXTzc",
        "outputId": "2c2c8e66-d9f0-4a91-a560-5922f1a76e26",
        "colab": {
          "base_uri": "https://localhost:8080/"
        }
      },
      "outputs": [
        {
          "output_type": "stream",
          "name": "stdout",
          "text": [
            "total  4870\n",
            "average is  212.65975359342914\n",
            "average ratio is  0.8343860369609901\n",
            "not that funny but have awards  0\n",
            "funny  3021\n",
            "funny ratio  0.6203285420944559\n"
          ]
        }
      ],
      "source": [
        "average = 0\n",
        "average_ratio = 0\n",
        "unfunny_but_awarded = 0\n",
        "funny = 0\n",
        "# hardcoded from the average and average_ratio variables\n",
        "threshold = 212\n",
        "threshold_ratio = 0.83\n",
        "\n",
        "for index in range(len(clean_df)):\n",
        "  #  if the post has upvotes above the threshold OR the upvote_ratio is above the threshold\n",
        "  if clean_df['ups'][index] > threshold or clean_df['upvote_ratio'][index] > threshold_ratio:\n",
        "    funny = funny + 1\n",
        "  # if they don't have enough upvotes or ratio but have awards\n",
        "  elif int(clean_df['total_awards_received'][index]) > 2:\n",
        "    unfunny_but_awarded = unfunny_but_awarded +1\n",
        "\n",
        "  average = average + clean_df['ups'][index]\n",
        "  average_ratio = average_ratio + clean_df['upvote_ratio'][index]\n",
        "\n",
        "print('total ', len(clean_df))\n",
        "print('average is ', str(average/len(clean_df)))\n",
        "print('average ratio is ', str(average_ratio/len(clean_df)))\n",
        "print('not that funny but have awards ', unfunny_but_awarded)\n",
        "print('funny ', funny)\n",
        "print('funny ratio ', funny/len(clean_df))\n"
      ]
    }
  ],
  "metadata": {
    "colab": {
      "name": "Humour_detection.ipynb",
      "provenance": [],
      "include_colab_link": true
    },
    "kernelspec": {
      "display_name": "Python 3",
      "name": "python3"
    },
    "language_info": {
      "name": "python"
    }
  },
  "nbformat": 4,
  "nbformat_minor": 0
}