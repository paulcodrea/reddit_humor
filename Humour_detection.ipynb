{
  "cells": [
    {
      "cell_type": "markdown",
      "metadata": {
        "id": "view-in-github",
        "colab_type": "text"
      },
      "source": [
        "<a href=\"https://colab.research.google.com/github/paulcodrea/reddit_humor/blob/main/Humour_detection.ipynb\" target=\"_parent\"><img src=\"https://colab.research.google.com/assets/colab-badge.svg\" alt=\"Open In Colab\"/></a>"
      ]
    },
    {
      "cell_type": "code",
      "execution_count": 80,
      "metadata": {
        "id": "o1_DyllE0pbH"
      },
      "outputs": [],
      "source": [
        "import requests\n",
        "import pandas as pd"
      ]
    },
    {
      "cell_type": "markdown",
      "source": [
        "### Defining methods useful for scraping the Reddit threads\n"
      ],
      "metadata": {
        "id": "K5sJJRgw28QT"
      }
    },
    {
      "cell_type": "code",
      "source": [
        "def scrape_url(url, pages=0):\n",
        "  resp = requests.get(url=url, headers = {'User-agent': 'Humour detection bot'}, params = {'limit': '100'})\n",
        "  data = resp.json()\n",
        "  data_list = []\n",
        "  data_list.append(data)\n",
        "  # if more than 100 data points are needed:\n",
        "  if pages != 0:\n",
        "    for i in range(pages):\n",
        "      after_param = data['data']['after'] \n",
        "      data = requests.get(url=url, headers = {'User-agent': 'Humour detection bot'}, params = {'after': after_param, 'limit': '100'})\n",
        "      data_2 = data.json()\n",
        "      data_list.append(data_2)\n",
        "      data = data_2\n",
        "  return data_list\n",
        "\n",
        "def make_list_from_json(json_list):\n",
        "  data = []\n",
        "  for collection in json_list:\n",
        "    collection_list = collection['data']['children']\n",
        "    for joke_index in range(len(collection_list)):\n",
        "      data.append(collection_list[joke_index]['data'])\n",
        "  return data\n",
        "\n",
        "def transform_data(data):\n",
        "  df = pd.DataFrame(data)\n",
        "  clean_df = pd.DataFrame()\n",
        "\n",
        "  clean_df['title'] = df['title']\n",
        "  clean_df['selftext'] = df['selftext']\n",
        "  clean_df['ups'] = df['ups']\n",
        "  clean_df['downs'] = df['downs']\n",
        "  clean_df['upvote_ratio'] = df['upvote_ratio']\n",
        "  clean_df['total_awards_received'] = df['total_awards_received']\n",
        "\n",
        "  return clean_df"
      ],
      "metadata": {
        "id": "b4H-JgsV3B5k"
      },
      "execution_count": 81,
      "outputs": []
    },
    {
      "cell_type": "markdown",
      "source": [
        "# Scraping r/dadjokes\n"
      ],
      "metadata": {
        "id": "cFcJ67yu2W0_"
      }
    },
    {
      "cell_type": "code",
      "execution_count": 82,
      "metadata": {
        "id": "7gxCeyWG0pbK"
      },
      "outputs": [],
      "source": [
        "url = \"https://www.reddit.com/r/dadjokes.json\"\n",
        "data = scrape_url(url, 100)\n",
        "data = make_list_from_json(data)"
      ]
    },
    {
      "cell_type": "markdown",
      "metadata": {
        "id": "f3R-7RcKXTzY"
      },
      "source": [
        "### Save only important columns in dataframe"
      ]
    },
    {
      "cell_type": "code",
      "execution_count": 83,
      "metadata": {
        "id": "f5mn3L3SXTzZ"
      },
      "outputs": [],
      "source": [
        "clean_df = transform_data(data)"
      ]
    },
    {
      "cell_type": "markdown",
      "metadata": {
        "id": "_wfMpvJFXTza"
      },
      "source": [
        "### Plot the stats of the reddit jokes"
      ]
    },
    {
      "cell_type": "code",
      "execution_count": 84,
      "metadata": {
        "colab": {
          "base_uri": "https://localhost:8080/",
          "height": 646
        },
        "id": "XAPmfh9i0pbO",
        "outputId": "81fa0583-7ca8-4490-b3df-59b7c3b24dd1"
      },
      "outputs": [
        {
          "output_type": "stream",
          "name": "stdout",
          "text": [
            "Number of jokes with upvotes different from zero:  9055\n",
            "Number of jokes with no engagement:  609\n",
            "Average number of upvotes:  232.33029801324503\n",
            "Average upvote ratio:  0.8413990066225079\n"
          ]
        },
        {
          "output_type": "display_data",
          "data": {
            "text/plain": [
              "<Figure size 720x720 with 1 Axes>"
            ],
            "image/png": "[encoded data removed]"
          },
          "metadata": {}
        }
      ],
      "source": [
        "# print out as a pie chart how many jokes are funny or not\n",
        "from matplotlib import pyplot as plt\n",
        "\n",
        "# calculate number of posts with upvotes different grater than downvotes\n",
        "funny = clean_df[clean_df['ups'] > clean_df['downs']]\n",
        "# not_funny = clean_df[clean_df['ups'] <= clean_df['downs']]\n",
        "no_engagement = len(clean_df[(clean_df['ups'] == 0) & (clean_df['downs'] == 0)])\n",
        "\n",
        "\n",
        "#calculate how many have only upvotes and zero downvotes\n",
        "upvotes_count = downvotes_count = 0\n",
        "for index in range(len(clean_df)):\n",
        "    if clean_df['ups'][index] > 0:\n",
        "        upvotes_count += 1\n",
        "    # elif clean_df['downs'][index] > 0:\n",
        "    #     downvotes_count += 1\n",
        "\n",
        "print(\"Number of jokes with upvotes different from zero: \", upvotes_count)\n",
        "print(\"Number of jokes with no engagement: \", no_engagement)\n",
        "\n",
        "treshhold_ups = clean_df['ups'].mean()\n",
        "print(\"Average number of upvotes: \", treshhold_ups)\n",
        "threshold_ratio = clean_df['upvote_ratio'].mean()\n",
        "print(\"Average upvote ratio: \", threshold_ratio)\n",
        "\n",
        "\n",
        "funny_percentage = len(funny) / len(clean_df) * 100\n",
        "no_engagement_percentage = no_engagement / len(clean_df) * 100\n",
        "# not_funny_percentage = len(not_funny) / len(clean_df) * 100\n",
        "\n",
        "# set size of pie chart\n",
        "plt.figure(figsize=(10,10))\n",
        "plt.pie([funny_percentage, no_engagement_percentage], labels=['funny', 'not funny'], autopct='%1.1f%%', colors=['green', 'red'])\n",
        "plt.show()"
      ]
    },
    {
      "cell_type": "markdown",
      "metadata": {
        "id": "y7FOz4TnkUFP"
      },
      "source": [
        "Experimenting to find a threshold "
      ]
    },
    {
      "cell_type": "code",
      "execution_count": 85,
      "metadata": {
        "colab": {
          "base_uri": "https://localhost:8080/"
        },
        "id": "S30tUqCSXTzc",
        "outputId": "ba414015-4595-48d8-fafd-96b0d7b4851b"
      },
      "outputs": [
        {
          "output_type": "stream",
          "name": "stdout",
          "text": [
            "total  9664\n",
            "not that funny but have awards  0\n",
            "funny  681\n",
            "funny ratio  0.07046771523178808\n"
          ]
        }
      ],
      "source": [
        "unfunny_but_awarded = 0\n",
        "funny = 0\n",
        "count = 0\n",
        "jokes_dataset = pd.DataFrame()\n",
        "for index in range(len(clean_df)):\n",
        "\n",
        "  if clean_df['ups'][index] > treshhold_ups and clean_df['upvote_ratio'][index] > threshold_ratio:\n",
        "    jokes_dataset = jokes_dataset.append(clean_df.iloc[count])\n",
        "    count = count + 1\n",
        "    funny = funny + 1\n",
        "\n",
        "\n",
        "\n",
        "print('total ', len(clean_df))\n",
        "print('not that funny but have awards ', unfunny_but_awarded)\n",
        "print('funny ', funny)\n",
        "print('funny ratio ', funny/len(clean_df))"
      ]
    },
    {
      "cell_type": "code",
      "execution_count": 87,
      "metadata": {
        "id": "nvvqkbuEpeYI",
        "colab": {
          "base_uri": "https://localhost:8080/"
        },
        "outputId": "53fa0f40-b06a-4e35-b58e-b941c8c9099d"
      },
      "outputs": [
        {
          "output_type": "stream",
          "name": "stdout",
          "text": [
            "The highest length of title is  260\n",
            "The highest length og the joke is:  1778\n"
          ]
        }
      ],
      "source": [
        "# add one more column to jokes_dataset with length of selftext\n",
        "jokes_dataset['title_length'] = jokes_dataset['title'].apply(len)\n",
        "jokes_dataset['selftext_length'] = jokes_dataset['selftext'].apply(len)\n",
        "print(\"The highest length of title is \", jokes_dataset['title_length'].max())\n",
        "print(\"The highest length og the joke is: \", jokes_dataset['selftext_length'].max())"
      ]
    },
    {
      "cell_type": "code",
      "execution_count": 88,
      "metadata": {
        "id": "rJaedS020pbR"
      },
      "outputs": [],
      "source": [
        "# save jokes_dataset in a csv file\n",
        "jokes_dataset.to_csv(f'reddit_funny_dadjokes({len(jokes_dataset)}).csv')"
      ]
    },
    {
      "cell_type": "markdown",
      "source": [
        "# Scraping r/badjokes\n"
      ],
      "metadata": {
        "id": "8bnym-oJ2g7A"
      }
    },
    {
      "cell_type": "code",
      "source": [
        "# Get reddit /r/badjokes data\n",
        "url = \"https://www.reddit.com/r/badjokes.json\"\n",
        "data_neg = scrape_url(url, 5)\n",
        "data_neg = make_list_from_json(data_neg)"
      ],
      "metadata": {
        "id": "zS1CQFiK2lS1"
      },
      "execution_count": 89,
      "outputs": []
    },
    {
      "cell_type": "markdown",
      "source": [
        "### Save only important columns in dataframe"
      ],
      "metadata": {
        "id": "bmF6tVWq2yu7"
      }
    },
    {
      "cell_type": "code",
      "source": [
        "badjokes_dataset = transform_data(data_neg)"
      ],
      "metadata": {
        "id": "gdLGrfYa2zor"
      },
      "execution_count": 90,
      "outputs": []
    },
    {
      "cell_type": "code",
      "source": [
        "print(len(badjokes_dataset))"
      ],
      "metadata": {
        "colab": {
          "base_uri": "https://localhost:8080/"
        },
        "id": "l0hVTy5h6Cxe",
        "outputId": "3eb83483-51f3-4d2e-d0d6-ff527ed102d8"
      },
      "execution_count": 91,
      "outputs": [
        {
          "output_type": "stream",
          "name": "stdout",
          "text": [
            "600\n"
          ]
        }
      ]
    },
    {
      "cell_type": "code",
      "source": [
        "# save jokes_dataset in a csv file\n",
        "badjokes_dataset.to_csv(f'reddit_badjokes({len(badjokes_dataset)}).csv')"
      ],
      "metadata": {
        "id": "pZP8UOjE63TD"
      },
      "execution_count": 92,
      "outputs": []
    },
    {
      "cell_type": "code",
      "source": [
        ""
      ],
      "metadata": {
        "id": "dW8oiVdYSJCh"
      },
      "execution_count": null,
      "outputs": []
    },
    {
      "cell_type": "markdown",
      "source": [
        "# Data Pre-processing - WIP"
      ],
      "metadata": {
        "id": "cTY6U2yaSKEw"
      }
    },
    {
      "cell_type": "code",
      "source": [
        "# merge punch line and joke\n",
        "# add appropriate punctuation\n",
        "jokes_dataset['joke'] = ''\n",
        "for joke_index in range(len(jokes_dataset)):\n",
        "  title = jokes_dataset['title'][joke_index]\n",
        "  separator = ' '\n",
        "  if title[len(title) - 1].isalpha():\n",
        "      separator = '. '\n",
        "  jokes_dataset['joke'][joke_index] = jokes_dataset['title'][joke_index] + separator + jokes_dataset['selftext'][joke_index] \n",
        "  joke = jokes_dataset['joke'][joke_index]\n",
        "  if joke[len(joke) - 1].isalpha():\n",
        "    jokes_dataset['joke'][joke_index] = joke + '.'"
      ],
      "metadata": {
        "id": "Uzb85_UzSOfS",
        "outputId": "adeb8a01-cd0b-4afa-f692-12deb8832d47",
        "colab": {
          "base_uri": "https://localhost:8080/"
        }
      },
      "execution_count": 93,
      "outputs": [
        {
          "output_type": "stream",
          "name": "stderr",
          "text": [
            "/usr/local/lib/python3.7/dist-packages/ipykernel_launcher.py:9: SettingWithCopyWarning: \n",
            "A value is trying to be set on a copy of a slice from a DataFrame\n",
            "\n",
            "See the caveats in the documentation: https://pandas.pydata.org/pandas-docs/stable/user_guide/indexing.html#returning-a-view-versus-a-copy\n",
            "  if __name__ == '__main__':\n",
            "/usr/local/lib/python3.7/dist-packages/ipykernel_launcher.py:12: SettingWithCopyWarning: \n",
            "A value is trying to be set on a copy of a slice from a DataFrame\n",
            "\n",
            "See the caveats in the documentation: https://pandas.pydata.org/pandas-docs/stable/user_guide/indexing.html#returning-a-view-versus-a-copy\n",
            "  if sys.path[0] == '':\n"
          ]
        }
      ]
    },
    {
      "cell_type": "code",
      "source": [
        "normalised_jokes = []\n",
        "for joke_index in range(len(jokes_dataset)):\n",
        "  if jokes_dataset['title_length'][joke_index] + jokes_dataset['selftext_length'][joke_index] < 200:\n",
        "    normalised_jokes.append(joke_index)\n",
        "print(len(normalised_jokes))"
      ],
      "metadata": {
        "id": "QTZN2z5jnakm",
        "outputId": "a16c2f1c-ed53-43c9-d50f-2f35f4f21f3c",
        "colab": {
          "base_uri": "https://localhost:8080/"
        }
      },
      "execution_count": 97,
      "outputs": [
        {
          "output_type": "stream",
          "name": "stdout",
          "text": [
            "649\n"
          ]
        }
      ]
    },
    {
      "cell_type": "markdown",
      "source": [
        "### Experiment with similarity scores"
      ],
      "metadata": {
        "id": "CLasb865klgW"
      }
    },
    {
      "cell_type": "code",
      "source": [
        "from difflib import SequenceMatcher\n",
        "max = 0\n",
        "index_similar = 0\n",
        "jokes_dataset['similarity'] = ''\n",
        "for joke_index in range(len(jokes_dataset)):\n",
        "  title = jokes_dataset['title'][joke_index]\n",
        "  text = jokes_dataset['selftext'][joke_index]\n",
        "\n",
        "  title_words = title.split()\n",
        "  text_words = text.split()\n",
        "  final_score = 0\n",
        "  for title_word in title_words:\n",
        "    for text_word in text_words:\n",
        "      s = SequenceMatcher(None,title_word,text_word)\n",
        "      match_freq = s.ratio()\n",
        "      final_score += 1\n",
        "  jokes_dataset['similarity'][joke_index] = final_score\n",
        "  if final_score > max and joke_index in normalised_jokes:\n",
        "    index_similar = joke_index\n",
        "    max = final_score\n",
        "print(jokes_dataset['joke'][index_similar])\n"
      ],
      "metadata": {
        "id": "cRhf1HR_dxMa",
        "outputId": "168e20df-b760-4cce-d3ab-b3911c135816",
        "colab": {
          "base_uri": "https://localhost:8080/"
        }
      },
      "execution_count": 98,
      "outputs": [
        {
          "output_type": "stream",
          "name": "stderr",
          "text": [
            "/usr/local/lib/python3.7/dist-packages/ipykernel_launcher.py:17: SettingWithCopyWarning: \n",
            "A value is trying to be set on a copy of a slice from a DataFrame\n",
            "\n",
            "See the caveats in the documentation: https://pandas.pydata.org/pandas-docs/stable/user_guide/indexing.html#returning-a-view-versus-a-copy\n"
          ]
        },
        {
          "output_type": "stream",
          "name": "stdout",
          "text": [
            "I went to get pizza the other day and they asked if I wanted it cut into eight slices. I told them there’s no way I can eat eight slices in one sitting and had them cut it into four.\n"
          ]
        }
      ]
    }
  ],
  "metadata": {
    "colab": {
      "name": "Humour_detection.ipynb",
      "provenance": [],
      "include_colab_link": true
    },
    "kernelspec": {
      "display_name": "Python 3",
      "name": "python3"
    },
    "language_info": {
      "name": "python"
    }
  },
  "nbformat": 4,
  "nbformat_minor": 0
}