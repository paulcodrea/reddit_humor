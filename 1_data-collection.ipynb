{
  "cells": [
    {
      "cell_type": "markdown",
      "metadata": {
        "id": "view-in-github",
        "colab_type": "text"
      },
      "source": [
        "<a href=\"https://colab.research.google.com/github/paulcodrea/reddit_humor/blob/main/1_data-collection.ipynb\" target=\"_parent\"><img src=\"https://colab.research.google.com/assets/colab-badge.svg\" alt=\"Open In Colab\"/></a>"
      ]
    },
    {
      "cell_type": "markdown",
      "source": [
        "# Data Collection and Pre-Processing Steps"
      ],
      "metadata": {
        "id": "UFhYxpHxYdv-"
      }
    },
    {
      "cell_type": "markdown",
      "source": [
        "In this notebooke we:\n",
        "\n",
        "\n",
        "*   Collected the data for both the funny and unfunny jokes by scraping Reddit.\n",
        "*   Handled unreliable data by filtering the jokes using an engagement trehsold. We also experimented to find the ideal treshold (did we??).\n",
        "*   Handled data imbalance by ensuring both classes have a 50/50 split.\n",
        "*   Handled sampling bias by ensuring all jokes have similar formats (a pre-defined length range, no emojis, no non-words).\n",
        "*   Added all data + labels in a csv file to be used by the training and testing steps.\n",
        "\n",
        "\n"
      ],
      "metadata": {
        "id": "-DHjmz7uYbwz"
      }
    },
    {
      "cell_type": "code",
      "execution_count": 391,
      "metadata": {
        "id": "o1_DyllE0pbH",
        "colab": {
          "base_uri": "https://localhost:8080/"
        },
        "outputId": "4fd559cd-4e72-4aa5-f0d9-42e7e0a5275e"
      },
      "outputs": [
        {
          "output_type": "stream",
          "name": "stdout",
          "text": [
            "[nltk_data] Downloading package punkt to /root/nltk_data...\n",
            "[nltk_data]   Package punkt is already up-to-date!\n"
          ]
        }
      ],
      "source": [
        "import requests\n",
        "import pandas as pd\n",
        "from matplotlib import pyplot as plt\n",
        "from difflib import SequenceMatcher\n",
        "import emoji\n",
        "import re\n",
        "from nltk.tokenize import word_tokenize\n",
        "import nltk\n",
        "nltk.download('punkt')\n",
        "from nltk.corpus import stopwords\n",
        "stopWords = set(stopwords.words('english'))\n",
        "from nltk.tokenize import RegexpTokenizer\n",
        "\n"
      ]
    },
    {
      "cell_type": "markdown",
      "metadata": {
        "id": "K5sJJRgw28QT"
      },
      "source": [
        "### Defining methods for scraping the Reddit threads\n"
      ]
    },
    {
      "cell_type": "markdown",
      "source": [
        "The methods below help us scrape a Reddit thread URL, transform the JSON data, and concatenate the titles of the posts with their body_text (concatenating the joke with the punchline)."
      ],
      "metadata": {
        "id": "a5yJ2A4WPX8e"
      }
    },
    {
      "cell_type": "code",
      "execution_count": 392,
      "metadata": {
        "id": "b4H-JgsV3B5k"
      },
      "outputs": [],
      "source": [
        "def scrape_url(url, pages=0):\n",
        "  \"\"\" \n",
        "  Scrapes a url and returns a list of JSON.\n",
        "  \"\"\"\n",
        "  resp = requests.get(url=url, headers = {'User-agent': 'Humour detection bot'}, params = {'limit': '100'})\n",
        "  data = resp.json()\n",
        "  ret = []\n",
        "  ret.append(data)\n",
        "  \n",
        "  # if more than 100 data points are needed:\n",
        "  if pages != 0:\n",
        "    for i in range(pages):\n",
        "      after_param = data['data']['after'] \n",
        "      data = requests.get(url=url, headers = {'User-agent': 'Humour detection bot'}, params = {'after': after_param, 'limit': '100'})\n",
        "      data_2 = data.json()\n",
        "      ret.append(data_2)\n",
        "      data = data_2\n",
        "\n",
        "  return ret\n",
        "\n",
        "def make_list_from_json(json_list):\n",
        "  \"\"\"\n",
        "  Makes a list from a json list.\n",
        "  \"\"\"\n",
        "  ret = []\n",
        "  for collection in json_list:\n",
        "    collection_list = collection['data']['children']\n",
        "    for joke_index in range(len(collection_list)):\n",
        "      ret.append(collection_list[joke_index]['data'])\n",
        "  return ret\n",
        "\n",
        "def transform_data(data):\n",
        "  \"\"\" \n",
        "  Transforms data to a dataframe. Ans only keeps the columns that are needed.\n",
        "  \"\"\"\n",
        "  df = pd.DataFrame(data)\n",
        "  ret = pd.DataFrame()\n",
        "\n",
        "  ret['title'] = df['title']\n",
        "  ret['selftext'] = df['selftext']\n",
        "  ret['ups'] = df['ups']\n",
        "  ret['downs'] = df['downs']\n",
        "  ret['upvote_ratio'] = df['upvote_ratio']\n",
        "  ret['total_awards_received'] = df['total_awards_received']\n",
        "\n",
        "  return ret\n"
      ]
    },
    {
      "cell_type": "markdown",
      "metadata": {
        "id": "_wfMpvJFXTza"
      },
      "source": [
        "The method below enables us to analyse the collected data by plotting the stats of the reddit jokes:"
      ]
    },
    {
      "cell_type": "code",
      "source": [
        "\"\"\"\n",
        "Print out a pie chart showing how many jokes are funny/have a high engagement \n",
        "and unfunny/low engagement.\n",
        "The treshold used will be by default the mean of the engagement scores (upvote ratio).\n",
        "\"\"\"\n",
        "def visualise_data(data_df, type_data=\"funny\"or\"engagement\", treshold=None):\n",
        "  label_1 = \"Funny\"\n",
        "  label_2 = \"Not funny\"\n",
        "  if type_data == \"engagement\":\n",
        "    label_1 = \"High engagement\"\n",
        "    label_2 = \"Low engagement\"\n",
        "\n",
        "  # calculate number of posts with upvotes different grater than downvotes\n",
        "  funny = data_df[data_df['ups'] > data_df['downs']]\n",
        "  # not_funny = clean_df[clean_df['ups'] <= clean_df['downs']]\n",
        "  no_engagement = len(data_df[(data_df['ups'] == 0) & (data_df['downs'] == 0)])\n",
        "\n",
        "\n",
        "  #calculate how many have only upvotes and zero downvotes\n",
        "  upvotes_count = downvotes_count = 0\n",
        "  for index in range(len(data_df)):\n",
        "      if data_df['ups'][index] > 0:\n",
        "          upvotes_count += 1\n",
        "\n",
        "  print(\"Number of jokes with upvotes different from zero: \", upvotes_count)\n",
        "  print(\"Number of jokes with no engagement: \", no_engagement)\n",
        "  \n",
        "  treshhold_ups = data_df['ups'].mean()\n",
        "  print(\"Average number of upvotes: \", treshhold_ups)\n",
        "  threshold_ratio = clean_df['upvote_ratio'].mean()\n",
        "  if(treshold):\n",
        "    threshold_ratio = treshold\n",
        "  print(\"Average upvote ratio: \", threshold_ratio)\n",
        "\n",
        "\n",
        "  funny_percentage = len(funny) / len(data_df) * 100\n",
        "  no_engagement_percentage = no_engagement / len(data_df) * 100\n",
        "\n",
        "\n",
        "  plt.figure(figsize=(4,4))\n",
        "  plt.pie([funny_percentage, no_engagement_percentage], labels=[label_1, label_2], autopct='%1.1f%%', colors=['green', 'red'])\n",
        "  plt.show()"
      ],
      "metadata": {
        "id": "oaxdTTyDQciR"
      },
      "execution_count": 393,
      "outputs": []
    },
    {
      "cell_type": "markdown",
      "metadata": {
        "id": "cFcJ67yu2W0_"
      },
      "source": [
        "# Scraping r/dadjokes\n"
      ]
    },
    {
      "cell_type": "code",
      "execution_count": 394,
      "metadata": {
        "id": "7gxCeyWG0pbK"
      },
      "outputs": [],
      "source": [
        "url = \"https://www.reddit.com/r/dadjokes.json\"\n",
        "data = scrape_url(url, 200)\n",
        "data = make_list_from_json(data)\n",
        "# save only relevant colums\n",
        "clean_df = transform_data(data)"
      ]
    },
    {
      "cell_type": "markdown",
      "source": [
        "Compute the engagement tresholds"
      ],
      "metadata": {
        "id": "K0orHCA9Uk6j"
      }
    },
    {
      "cell_type": "code",
      "source": [
        "treshhold_ups = clean_df['ups'].mean()\n",
        "threshold_ratio = clean_df['upvote_ratio'].mean()"
      ],
      "metadata": {
        "id": "sP_1EF3wU2Y7"
      },
      "execution_count": 395,
      "outputs": []
    },
    {
      "cell_type": "markdown",
      "source": [
        "Visualise the data"
      ],
      "metadata": {
        "id": "lk2LsHB_TCw-"
      }
    },
    {
      "cell_type": "code",
      "source": [
        "visualise_data(clean_df, \"funny\")"
      ],
      "metadata": {
        "colab": {
          "base_uri": "https://localhost:8080/",
          "height": 319
        },
        "id": "4lEFogNoRcnB",
        "outputId": "2957a146-8f46-4c98-e167-663f69684f92"
      },
      "execution_count": 396,
      "outputs": [
        {
          "output_type": "stream",
          "name": "stdout",
          "text": [
            "Number of jokes with upvotes different from zero:  17681\n",
            "Number of jokes with no engagement:  2199\n",
            "Average number of upvotes:  218.1666498993964\n",
            "Average upvote ratio:  0.8089456740442408\n"
          ]
        },
        {
          "output_type": "display_data",
          "data": {
            "text/plain": [
              "<Figure size 288x288 with 1 Axes>"
            ],
            "image/png": "[encoded data removed]"
          },
          "metadata": {}
        }
      ]
    },
    {
      "cell_type": "markdown",
      "source": [
        "## Filter Jokes"
      ],
      "metadata": {
        "id": "5QFCCD8YgdWT"
      }
    },
    {
      "cell_type": "markdown",
      "source": [
        "Although all jokes scraped from r/DadJokes are considered funny, in order to handle unreability we will filter out the jokes that don't have engagement/ their engagement is low compared to the average value."
      ],
      "metadata": {
        "id": "_TGwWe0ZgOYT"
      }
    },
    {
      "cell_type": "code",
      "execution_count": 397,
      "metadata": {
        "colab": {
          "base_uri": "https://localhost:8080/"
        },
        "id": "S30tUqCSXTzc",
        "outputId": "cf96390d-09ee-4da5-aad2-7cfa51f486e6"
      },
      "outputs": [
        {
          "output_type": "stream",
          "name": "stdout",
          "text": [
            "Total jokes:  19880\n",
            "Jokes that are not that funny but have awards:  0\n",
            "Jokes that are funny according to our treshold:  1459\n",
            "funny ratio  0.07339034205231389\n"
          ]
        }
      ],
      "source": [
        "unfunny_but_awarded = 0\n",
        "funny = 0\n",
        "count = 0\n",
        "jokes_dataset = pd.DataFrame()\n",
        "\n",
        "for index in range(len(clean_df)):\n",
        "  if clean_df['ups'][index] > treshhold_ups and clean_df['upvote_ratio'][index] > threshold_ratio:\n",
        "    jokes_dataset = jokes_dataset.append(clean_df.iloc[count])\n",
        "    count = count + 1\n",
        "    funny = funny + 1\n",
        "\n",
        "\n",
        "\n",
        "print('Total jokes: ', len(clean_df))\n",
        "print('Jokes that are not that funny but have awards: ', unfunny_but_awarded)\n",
        "print('Jokes that are funny according to our treshold: ', funny)\n",
        "print('funny ratio ', funny/len(clean_df)) # Q - what is this"
      ]
    },
    {
      "cell_type": "markdown",
      "source": [
        "## Building the final CSV"
      ],
      "metadata": {
        "id": "Wjc3-_U5g0US"
      }
    },
    {
      "cell_type": "markdown",
      "source": [
        "Analysing the data and building the final Funny CSV\n",
        "\n"
      ],
      "metadata": {
        "id": "npTj2ah8VdMi"
      }
    },
    {
      "cell_type": "code",
      "execution_count": 398,
      "metadata": {
        "colab": {
          "base_uri": "https://localhost:8080/"
        },
        "id": "nvvqkbuEpeYI",
        "outputId": "402989f9-83ae-4f0a-eccc-8be276c563f5"
      },
      "outputs": [
        {
          "output_type": "stream",
          "name": "stdout",
          "text": [
            "The highest length of title is  274\n",
            "The highest length of the joke is:  1549\n"
          ]
        }
      ],
      "source": [
        "# add one more column to jokes_dataset with length of selftext\n",
        "jokes_dataset['title_length'] = jokes_dataset['title'].apply(len)\n",
        "jokes_dataset['selftext_length'] = jokes_dataset['selftext'].apply(len)\n",
        "print(\"The highest length of title is \", jokes_dataset['title_length'].max())\n",
        "print(\"The highest length of the joke is: \", jokes_dataset['selftext_length'].max())"
      ]
    },
    {
      "cell_type": "markdown",
      "source": [
        "Saving the jokes in a CSV file to be used by our models."
      ],
      "metadata": {
        "id": "7qOwcEoIVoar"
      }
    },
    {
      "cell_type": "code",
      "execution_count": 399,
      "metadata": {
        "id": "rJaedS020pbR"
      },
      "outputs": [],
      "source": [
        "jokes_dataset.to_csv(f'reddit_funny_dadjokes({len(jokes_dataset)}).csv')"
      ]
    },
    {
      "cell_type": "markdown",
      "metadata": {
        "id": "8bnym-oJ2g7A"
      },
      "source": [
        "# Scraping r/badjokes\n"
      ]
    },
    {
      "cell_type": "code",
      "execution_count": 400,
      "metadata": {
        "id": "zS1CQFiK2lS1"
      },
      "outputs": [],
      "source": [
        "url = \"https://www.reddit.com/r/badjokes.json\"\n",
        "data_neg = scrape_url(url, 200)\n",
        "data_neg = make_list_from_json(data_neg)\n",
        "# Save only important columns in dataframe\n",
        "badjokes_dataset = transform_data(data_neg)"
      ]
    },
    {
      "cell_type": "code",
      "execution_count": 401,
      "metadata": {
        "colab": {
          "base_uri": "https://localhost:8080/"
        },
        "id": "l0hVTy5h6Cxe",
        "outputId": "e2774441-3bcb-4228-9e01-75488e22a4aa"
      },
      "outputs": [
        {
          "output_type": "stream",
          "name": "stdout",
          "text": [
            "This is how many un-funny jokes we have collected  18620\n"
          ]
        }
      ],
      "source": [
        "print(\"This is how many un-funny jokes we have collected \", len(badjokes_dataset))"
      ]
    },
    {
      "cell_type": "code",
      "source": [
        "visualise_data(badjokes_dataset, \"engagement\")"
      ],
      "metadata": {
        "colab": {
          "base_uri": "https://localhost:8080/",
          "height": 319
        },
        "id": "Us2WjWR4SLas",
        "outputId": "45d23783-47af-402c-ce72-d5e134c0c7a8"
      },
      "execution_count": 402,
      "outputs": [
        {
          "output_type": "stream",
          "name": "stdout",
          "text": [
            "Number of jokes with upvotes different from zero:  17745\n",
            "Number of jokes with no engagement:  875\n",
            "Average number of upvotes:  28.91842105263158\n",
            "Average upvote ratio:  0.8089456740442408\n"
          ]
        },
        {
          "output_type": "display_data",
          "data": {
            "text/plain": [
              "<Figure size 288x288 with 1 Axes>"
            ],
            "image/png": "[encoded data removed]"
          },
          "metadata": {}
        }
      ]
    },
    {
      "cell_type": "markdown",
      "source": [
        "As opposed to the r/DadJokes dataset, we don't care if the unfunny jokes don't get any engagement, so we don't filter any data based on this."
      ],
      "metadata": {
        "id": "GeKWRxijhsDW"
      }
    },
    {
      "cell_type": "code",
      "execution_count": 403,
      "metadata": {
        "id": "pZP8UOjE63TD"
      },
      "outputs": [],
      "source": [
        "# save jokes_dataset in a csv file\n",
        "badjokes_dataset.to_csv(f'reddit_badjokes({len(badjokes_dataset)}).csv')"
      ]
    },
    {
      "cell_type": "markdown",
      "metadata": {
        "id": "efi7zSa5JL7f"
      },
      "source": [
        "# Generate final dataset"
      ]
    },
    {
      "cell_type": "markdown",
      "source": [
        "Adding a label column to each CSV"
      ],
      "metadata": {
        "id": "JY5CHfEdi7J2"
      }
    },
    {
      "cell_type": "code",
      "execution_count": 404,
      "metadata": {
        "id": "0n3ITwBRJL7f"
      },
      "outputs": [],
      "source": [
        "# Create one more column for jokes_dataset filles with 1\n",
        "jokes_dataset['funny'] = 1\n",
        "badjokes_dataset['funny'] = 0"
      ]
    },
    {
      "cell_type": "code",
      "source": [
        "copy_jokes_dataset = jokes_dataset\n",
        "copy_badjokes_dataset = badjokes_dataset"
      ],
      "metadata": {
        "id": "-38-mkjIgub2"
      },
      "execution_count": 405,
      "outputs": []
    },
    {
      "cell_type": "code",
      "source": [
        "jokes_dataset = copy_jokes_dataset\n",
        "badjokes_dataset = copy_badjokes_dataset"
      ],
      "metadata": {
        "id": "_VoCYaO4g3Vg"
      },
      "execution_count": 406,
      "outputs": []
    },
    {
      "cell_type": "markdown",
      "source": [
        "concat_title_and_body - a method to concatenate the titles and the body text. This will ensure each joke has the text + punchline format.\n",
        "\n",
        "preprocess - tokenise, clead data: remove stop words, remove punctuation, remove emojis and URLs.\n",
        "\n",
        "get-token-number - add a new column with the number of tokens from each joke\n",
        "\n",
        "TO DO: remove only one word jokes."
      ],
      "metadata": {
        "id": "RJdnKZ9ui-2z"
      }
    },
    {
      "cell_type": "code",
      "source": [
        "def concat_title_and_body(data_set):\n",
        "  \"\"\"\n",
        "  Preprocesses data to concatenate title and punchline into one string.\n",
        "  \"\"\"\n",
        "  data_set['joke'] = ''\n",
        "  for joke_index in range(len(data_set)):\n",
        "    title = data_set['title'][joke_index]\n",
        "    separator = ' '\n",
        "    if title[len(title) - 1].isalpha():\n",
        "        separator = '. '\n",
        "    data_set['joke'][joke_index] = data_set['title'][joke_index] + separator + data_set['selftext'][joke_index] \n",
        "    joke = data_set['joke'][joke_index]\n",
        "    if joke[len(joke) - 1].isalpha():\n",
        "      data_set['joke'][joke_index] = joke + '.'\n",
        "\n",
        "  return data_set\n",
        "\n",
        "def removeStopWords(words):\n",
        "  \"\"\"\n",
        "  Remove the stop-words from a list.\n",
        "  \"\"\"\n",
        "  filtered_words = []\n",
        "  for w in words:\n",
        "      if w not in stopWords:\n",
        "          filtered_words.append(w)\n",
        "  return filtered_words\n",
        "\n",
        "def preprocess(re_data, delStopWords=True, removePunctuation=True):\n",
        "  \"\"\"\n",
        "  Remove non-words (hyperlinks and emojis)\n",
        "  Remove stop words\n",
        "  Add a new column with the tokenised text\n",
        "  \"\"\"\n",
        "  emoji_pattern = re.compile(\"[\"\n",
        "  u\"\\U0001F600-\\U0001F64F\"  # emoticons\n",
        "  u\"\\U0001F300-\\U0001F5FF\"  # symbols & pictographs\n",
        "  u\"\\U0001F680-\\U0001F6FF\"  # transport & map symbols\n",
        "  u\"\\U0001F1E0-\\U0001F1FF\"  # flags (iOS)\n",
        "  \"]+\", flags=re.UNICODE)\n",
        "\n",
        "\n",
        "  # Remove URLs\n",
        "  re_data['joke'] = re_data['joke'].apply(lambda x: ' '.join(word for word in x.split() if not word.startswith('http')))\n",
        "  # Tokenise the text\n",
        "  if(removePunctuation == True):\n",
        "    tokenizer = RegexpTokenizer(r'\\w+')\n",
        "    re_data['tokens'] = re_data['joke'].apply(tokenizer.tokenize)\n",
        "  else:\n",
        "    # remove emojis\n",
        "    re_data['tokens'] = re_data['tokens'].apply(lambda x: ' '.join(word for word in x if not re.search(emoji_pattern, word))) \n",
        "    re_data['tokens'] = re_data['tokens'].apply(word_tokenize) # tokenize the text again\n",
        "  if(delStopWords == True):\n",
        "    for index, row in re_data.iterrows():\n",
        "      re_data['tokens'][index] = removeStopWords(re_data['tokens'][index])\n",
        "  \n",
        "  return re_data\n",
        "\n",
        "def get_token_number(re_data):\n",
        "  \"\"\"\n",
        "  Returns the maximum number of tokens in the dataset.\n",
        "  \"\"\"\n",
        "  re_data['token_count'] = 0\n",
        "  # create a new column in the dataframe with max tokens per row. and count only if the token isalpha()\n",
        "  for index, row in re_data.iterrows():\n",
        "    count = 0\n",
        "    for token in row['tokens']:\n",
        "      if token.isalpha():\n",
        "        count += 1\n",
        "      re_data['token_count'][index] = count\n",
        "\n",
        "  return re_data\n",
        "\n",
        "def filter_data(re_data): # TO DO: this doesnt work\n",
        "  filtered_data = pd.DataFrame()\n",
        "  for index, row in re_data.iterrows():\n",
        "    if re_data['token_count'][index] >= 2:\n",
        "      filtered_data = re_data.drop([index])\n",
        "  return re_data\n",
        "\n",
        "def merge_tokens_for_csv(re_data):\n",
        "  # add ' ' between the tokens\n",
        "  re_data['clean_text'] = ''\n",
        "  for index, row in re_data.iterrows():\n",
        "    joke_string = ''\n",
        "    for token in row['tokens']:\n",
        "      joke_string = joke_string + token.lower()\n",
        "      joke_string = joke_string + ' '\n",
        "    re_data['clean_text'][index] = joke_string\n",
        "  return re_data\n",
        "\n",
        "  "
      ],
      "metadata": {
        "id": "DRuM110Qi2lA"
      },
      "execution_count": 407,
      "outputs": []
    },
    {
      "cell_type": "markdown",
      "source": [
        "Pre-process both CSV and concatenate them into a final data set."
      ],
      "metadata": {
        "id": "CJpv98FkivMK"
      }
    },
    {
      "cell_type": "code",
      "source": [
        "def run_all_preprocessing(data_set):\n",
        "  data_set = concat_title_and_body(data_set)\n",
        "  data_set = preprocess(data_set)\n",
        "  data_set = get_token_number(data_set)\n",
        "  # data_set = filter_data(data_set)\n",
        "  data_set = merge_tokens_for_csv(data_set)\n",
        "  \n",
        "  return data_set\n",
        "\n",
        "\n"
      ],
      "metadata": {
        "id": "4SRig9E9Kw7g"
      },
      "execution_count": 408,
      "outputs": []
    },
    {
      "cell_type": "code",
      "execution_count": 409,
      "metadata": {
        "colab": {
          "base_uri": "https://localhost:8080/"
        },
        "id": "Uzb85_UzSOfS",
        "outputId": "b996d929-7862-42bc-86cc-d8acbc8033c0"
      },
      "outputs": [
        {
          "output_type": "stream",
          "name": "stderr",
          "text": [
            "/usr/local/lib/python3.7/dist-packages/ipykernel_launcher.py:11: SettingWithCopyWarning: \n",
            "A value is trying to be set on a copy of a slice from a DataFrame\n",
            "\n",
            "See the caveats in the documentation: https://pandas.pydata.org/pandas-docs/stable/user_guide/indexing.html#returning-a-view-versus-a-copy\n",
            "  # This is added back by InteractiveShellApp.init_path()\n",
            "/usr/local/lib/python3.7/dist-packages/ipykernel_launcher.py:14: SettingWithCopyWarning: \n",
            "A value is trying to be set on a copy of a slice from a DataFrame\n",
            "\n",
            "See the caveats in the documentation: https://pandas.pydata.org/pandas-docs/stable/user_guide/indexing.html#returning-a-view-versus-a-copy\n",
            "  \n",
            "/usr/local/lib/python3.7/dist-packages/ipykernel_launcher.py:54: SettingWithCopyWarning: \n",
            "A value is trying to be set on a copy of a slice from a DataFrame\n",
            "\n",
            "See the caveats in the documentation: https://pandas.pydata.org/pandas-docs/stable/user_guide/indexing.html#returning-a-view-versus-a-copy\n",
            "/usr/local/lib/python3.7/dist-packages/ipykernel_launcher.py:69: SettingWithCopyWarning: \n",
            "A value is trying to be set on a copy of a slice from a DataFrame\n",
            "\n",
            "See the caveats in the documentation: https://pandas.pydata.org/pandas-docs/stable/user_guide/indexing.html#returning-a-view-versus-a-copy\n",
            "/usr/local/lib/python3.7/dist-packages/ipykernel_launcher.py:88: SettingWithCopyWarning: \n",
            "A value is trying to be set on a copy of a slice from a DataFrame\n",
            "\n",
            "See the caveats in the documentation: https://pandas.pydata.org/pandas-docs/stable/user_guide/indexing.html#returning-a-view-versus-a-copy\n"
          ]
        }
      ],
      "source": [
        "jokes_dataset = run_all_preprocessing(jokes_dataset)\n",
        "badjokes_dataset = run_all_preprocessing(badjokes_dataset)\n",
        "\n",
        "\n",
        "# ensure 50/50 split\n",
        "if len(badjokes_dataset) < len(jokes_dataset):\n",
        "  jokes_dataset = jokes_dataset.head(len(badjokes_dataset))\n",
        "else:\n",
        "  badjokes_dataset = badjokes_dataset.head(len(jokes_dataset))\n",
        "\n",
        "# create final_df with jokes_dataset specific columns\n",
        "final_df = pd.DataFrame()\n",
        "final_df['joke'] = jokes_dataset['joke']\n",
        "final_df['tokens'] = jokes_dataset['tokens']\n",
        "final_df['token_count'] = jokes_dataset['token_count']\n",
        "final_df['funny'] = jokes_dataset['funny']\n",
        "final_df['clean_text'] = jokes_dataset['clean_text']\n",
        "\n",
        "\n",
        "\n",
        "#concat to final_df with badjokes_dataset specific columns\n",
        "final_df = final_df.append(badjokes_dataset, ignore_index=True)\n",
        "# remove title, selftext, ups, downs, upvote_ratio, total_awards_received\n",
        "final_df = final_df.drop(['title', 'selftext', 'ups', 'downs', 'upvote_ratio', 'total_awards_received'], axis=1)"
      ]
    },
    {
      "cell_type": "code",
      "source": [
        "final_df = final_df.sample(frac=1, ignore_index=True)"
      ],
      "metadata": {
        "id": "vXlD-K6esRyq"
      },
      "execution_count": 410,
      "outputs": []
    },
    {
      "cell_type": "code",
      "execution_count": 411,
      "metadata": {
        "id": "rhupVZhZJL7g"
      },
      "outputs": [],
      "source": [
        "# save final_df in a csv file\n",
        "final_df.to_csv(f'final_jokes({len(final_df)}).csv')"
      ]
    },
    {
      "cell_type": "markdown",
      "metadata": {
        "id": "CLasb865klgW"
      },
      "source": [
        "# Experiment with similarity scores"
      ]
    },
    {
      "cell_type": "code",
      "execution_count": 412,
      "metadata": {
        "colab": {
          "base_uri": "https://localhost:8080/"
        },
        "id": "QTZN2z5jnakm",
        "outputId": "743907e0-35c0-4f42-e699-7477b822270a"
      },
      "outputs": [
        {
          "output_type": "stream",
          "name": "stdout",
          "text": [
            "1380\n"
          ]
        }
      ],
      "source": [
        "normalised_jokes = []\n",
        "for joke_index in range(len(jokes_dataset)):\n",
        "  if jokes_dataset['title_length'][joke_index] + jokes_dataset['selftext_length'][joke_index] < 200:\n",
        "    normalised_jokes.append(joke_index)\n",
        "print(len(normalised_jokes))"
      ]
    },
    {
      "cell_type": "code",
      "execution_count": 413,
      "metadata": {
        "colab": {
          "base_uri": "https://localhost:8080/"
        },
        "id": "cRhf1HR_dxMa",
        "outputId": "6dadca60-fb64-4cfa-9e31-d34ca6040cc6"
      },
      "outputs": [
        {
          "output_type": "stream",
          "name": "stderr",
          "text": [
            "/usr/local/lib/python3.7/dist-packages/ipykernel_launcher.py:17: SettingWithCopyWarning: \n",
            "A value is trying to be set on a copy of a slice from a DataFrame\n",
            "\n",
            "See the caveats in the documentation: https://pandas.pydata.org/pandas-docs/stable/user_guide/indexing.html#returning-a-view-versus-a-copy\n"
          ]
        },
        {
          "output_type": "stream",
          "name": "stdout",
          "text": [
            "New rule at my house today - We replaced our swear jar with a star wars pun jar... ... ... ... ... For every star wars pun said out loud, I need to put $5 into the star wars pun jar-jar.\n"
          ]
        }
      ],
      "source": [
        "\n",
        "max = 0\n",
        "index_similar = 0\n",
        "jokes_dataset['similarity'] = ''\n",
        "for joke_index in range(len(jokes_dataset)):\n",
        "  title = jokes_dataset['title'][joke_index]\n",
        "  text = jokes_dataset['selftext'][joke_index]\n",
        "\n",
        "  title_words = title.split()\n",
        "  text_words = text.split()\n",
        "  final_score = 0\n",
        "  for title_word in title_words:\n",
        "    for text_word in text_words:\n",
        "      s = SequenceMatcher(None,title_word,text_word)\n",
        "      match_freq = s.ratio()\n",
        "      final_score += 1\n",
        "  jokes_dataset['similarity'][joke_index] = final_score\n",
        "  if final_score > max and joke_index in normalised_jokes:\n",
        "    index_similar = joke_index\n",
        "    max = final_score\n",
        "print(jokes_dataset['joke'][index_similar])\n"
      ]
    }
  ],
  "metadata": {
    "colab": {
      "name": "Humour_detection.ipynb",
      "provenance": [],
      "include_colab_link": true
    },
    "kernelspec": {
      "display_name": "Python 3",
      "name": "python3"
    },
    "language_info": {
      "codemirror_mode": {
        "name": "ipython",
        "version": 3
      },
      "file_extension": ".py",
      "mimetype": "text/x-python",
      "name": "python",
      "nbconvert_exporter": "python",
      "pygments_lexer": "ipython3",
      "version": "3.9.7"
    }
  },
  "nbformat": 4,
  "nbformat_minor": 0
}