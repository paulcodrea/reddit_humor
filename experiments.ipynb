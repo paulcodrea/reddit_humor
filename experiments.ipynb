{
 "cells": [
  {
   "cell_type": "code",
   "execution_count": 139,
   "metadata": {},
   "outputs": [],
   "source": [
    "import os\n",
    "import pandas as pd\n",
    "import numpy as np\n",
    "from matplotlib import pyplot as plt\n",
    "import seaborn as sns"
   ]
  },
  {
   "cell_type": "code",
   "execution_count": 161,
   "metadata": {},
   "outputs": [],
   "source": [
    "class Experiment:\n",
    "    def __init__(self, path):\n",
    "        self.path = path\n",
    "        self.main = pd.DataFrame()\n",
    "        self.categories = []\n",
    "\n",
    "    def read_data(self):\n",
    "        \"\"\"\n",
    "        Reads the data from the csv file.\n",
    "        \"\"\"\n",
    "        for root, dirs, files in os.walk(self.path):\n",
    "            for dir in dirs:\n",
    "                for root, dirs, files in os.walk(os.path.join(self.path, dir)):\n",
    "                    for file in files:\n",
    "                        if file.endswith('_data.csv'):\n",
    "                            # save the file name without '_data'\n",
    "                            file_name = file[:-7]\n",
    "                            # print('Reading file:', file_name)\n",
    "\n",
    "                            data = pd.read_csv(os.path.join(self.path, dir, file))\n",
    "                            data.drop(['Unnamed: 0'], axis=1, inplace=True)\n",
    "                            # add a column to indicate the file name\n",
    "                            data['file_name'] = file_name\n",
    "\n",
    "                            self.main = self.main.append(data)\n",
    "\n",
    "    # def plot_data(self):\n",
    "    #     \"\"\"\n",
    "    #     Plots the data.\n",
    "    #     \"\"\"\n",
    "    #     # Save the unique categories\n",
    "    #     for index, row in self.main.iterrows():\n",
    "    #         # take the first 2 letters from the file name\n",
    "    #         category = row['file_name'][:3]\n",
    "    #         # Save unique categories\n",
    "    #         if category not in self.categories:\n",
    "    #             self.categories.append(category)\n",
    "        \n",
    "    #     accuracy = []\n",
    "    #     for category in self.categories:\n",
    "    #         print('Plotting category:', category)\n",
    "            \n",
    "    #         accuracy = self.main[self.main['file_name'].str.contains(category)]['accuracy']\n",
    "\n",
    "    #         print('Accuracy:', accuracy)\n",
    "\n",
    "    #         ax = accuracy.plot.bar()\n",
    "    #         plt.tight_layout()\n",
    "\n",
    "    #         # plot sns barplot of the accuracy\n",
    "    #         sns.barplot(x=accuracy, y=accuracy.index)\n",
    "    #         plt.title('Accuracy of {}'.format(category))\n",
    "    #         plt.show()\n",
    "\n",
    "    def new_plot(self):\n",
    "        \"\"\"\n",
    "        Plots the data.\n",
    "        \"\"\"\n",
    "        # make a copy\n",
    "        data = self.main.copy()\n",
    "\n",
    "        # remove max_len column\n",
    "        data.drop(['max_len'], axis=1, inplace=True)\n",
    "\n",
    "        # save file_name as the index\n",
    "        data.set_index('file_name', inplace=True)\n",
    "\n",
    "        # set a bigger size\n",
    "        plt.rcParams['figure.figsize'] = (18, 8)\n",
    "        ax = data.plot.bar(rot=45)\n",
    "        plt.tight_layout()"
   ]
  },
  {
   "cell_type": "code",
   "execution_count": 164,
   "metadata": {},
   "outputs": [],
   "source": [
    "path = \"model\"\n",
    "\n",
    "demo = Experiment(path)\n",
    "demo.read_data()\n",
    "# print(demo.main)"
   ]
  },
  {
   "cell_type": "code",
   "execution_count": 165,
   "metadata": {},
   "outputs": [
    {
     "data": {
      "image/png": "[encoded data removed]",
      "text/plain": [
       "<Figure size 1296x576 with 1 Axes>"
      ]
     },
     "metadata": {
      "needs_background": "light"
     },
     "output_type": "display_data"
    }
   ],
   "source": [
    "# demo.plot_data()\n",
    "\n",
    "demo.new_plot()"
   ]
  }
 ],
 "metadata": {
  "interpreter": {
   "hash": "a3a52a35f691380e40dee258b5f482ebea5e8d938b654dd4fe14bb13e1a5bfa7"
  },
  "kernelspec": {
   "display_name": "Python 3.9.7 64-bit",
   "language": "python",
   "name": "python3"
  },
  "language_info": {
   "codemirror_mode": {
    "name": "ipython",
    "version": 3
   },
   "file_extension": ".py",
   "mimetype": "text/x-python",
   "name": "python",
   "nbconvert_exporter": "python",
   "pygments_lexer": "ipython3",
   "version": "3.9.7"
  },
  "orig_nbformat": 4
 },
 "nbformat": 4,
 "nbformat_minor": 2
}
