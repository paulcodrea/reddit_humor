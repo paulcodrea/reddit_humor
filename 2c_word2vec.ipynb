{
  "cells": [
    {
      "cell_type": "code",
      "execution_count": 93,
      "metadata": {
        "colab": {
          "base_uri": "https://localhost:8080/"
        },
        "id": "u7bPdvM21K26",
        "outputId": "148a83a7-8e27-4e91-d9d5-64d6a3dd1109"
      },
      "outputs": [],
      "source": [
        "# !pip install gensim==4.2.0"
      ]
    },
    {
      "cell_type": "code",
      "execution_count": 1,
      "metadata": {
        "id": "BV5vt3eu1K3A"
      },
      "outputs": [],
      "source": [
        "import gensim\n",
        "import pickle\n",
        "import pandas as pd\n",
        "import numpy as np\n",
        "\n",
        "from keras.models import Sequential, load_model\n",
        "from keras.layers.core import Dense, Dropout \n",
        "from keras.layers import LSTM, Embedding\n",
        "\n",
        "from sklearn.model_selection import train_test_split\n",
        "from sklearn.metrics import precision_score, recall_score, f1_score\n",
        "\n",
        "from gensim.models import Word2Vec\n",
        "\n",
        "from keras.preprocessing.text import Tokenizer\n",
        "from keras.preprocessing.sequence import pad_sequences"
      ]
    },
    {
      "cell_type": "code",
      "execution_count": 95,
      "metadata": {
        "colab": {
          "base_uri": "https://localhost:8080/"
        },
        "id": "lwcFzKWjaOaq",
        "outputId": "69a7344f-e477-46c5-882b-8fa2ddb221f8"
      },
      "outputs": [],
      "source": [
        "# from google.colab import drive\n",
        "# drive.mount('/content/drive')"
      ]
    },
    {
      "cell_type": "code",
      "execution_count": 2,
      "metadata": {
        "id": "4n2Gsn6p1K3B"
      },
      "outputs": [],
      "source": [
        "# We might have to change the following\n",
        "config = {\n",
        "    \"learning_rate\": 0.001,\n",
        "    \"epochs\": 3, \n",
        "    \"batch_size\": 70,\n",
        "    \"test_p\": 0.2,\n",
        "    \"val_p\": 0.1,\n",
        "    # \"LSTM_layer\": [50, 100],\n",
        "    # \"Dropout_layer\": [0.15, 0.2],\n",
        "    # \"activation\": 'softmax',\n",
        "    ##################### SAVE FOR LIVE DEMO #############################\n",
        "    \"model_path\": \"model/2c_model.h5\",\n",
        "    \"tokenizer_path\": \"model/2c_tokenizer.pickle\",\n",
        "    \"data_path\": \"model/2c_data.csv\",\n",
        "}"
      ]
    },
    {
      "cell_type": "code",
      "execution_count": 11,
      "metadata": {},
      "outputs": [],
      "source": [
        "class LSTM_model:\n",
        "    def __init__(self, path):\n",
        "        self.path = path # Path to the dataset\n",
        "        self.data = pd.DataFrame() # Dataframe to store the dataset\n",
        "        self.tokenizer = Tokenizer(num_words=None, split=' ') # Tokenizer to tokenize the text\n",
        "\n",
        "        self.context_window = 5 # Context window size\n",
        "        self.w2v_feature_vector = []\n",
        "        self.vocabulary_size = 0\n",
        "        self.vocabulary = []\n",
        "\n",
        "        self.jokes_to_numerical = []\n",
        "        self.model = None\n",
        "        self.word_vec = {}\n",
        "\n",
        "\n",
        "    def read_dataset(self):\n",
        "        \"\"\"\n",
        "        Reads the dataset from the given path.\n",
        "        \"\"\"\n",
        "        ret = pd.read_csv(self.path)\n",
        "        ret.drop(columns=['Unnamed: 0'], inplace=True)\n",
        "\n",
        "        self.data = ret\n",
        "\n",
        "\n",
        "    def w2v_model(self, max_length):\n",
        "        \"\"\"\n",
        "        Splits the data into train and validation sets.\n",
        "        Constructs the word2vec model. (Feature vector)\n",
        "        \"\"\"\n",
        "        X = self.data['tokens']\n",
        "        y = self.data['funny']\n",
        "\n",
        "        print(\"X shape: \", X.shape)\n",
        "        print(\"y shape: \", y.shape)\n",
        "        # split the data into train and validation sets and make them random\n",
        "        X_train, X_test, y_train, y_test = train_test_split(X, y, test_size=0.3, random_state=10)\n",
        "\n",
        "        w2v_model = Word2Vec(X_train, vector_size=max_length, min_count=1, window=self.context_window)\n",
        "\n",
        "        w2v_model.train(X_train, total_examples=len(X_train), epochs=10)\n",
        "\n",
        "        vocab = w2v_model.wv.index_to_key\n",
        "        print(\"Vocabulary size: \", len(vocab))\n",
        "\n",
        "\n",
        "        for word in vocab:\n",
        "            self.word_vec[word] = w2v_model.wv.get_vector(word)\n",
        "\n",
        "\n",
        "    def LSTM_model(self, max_length):\n",
        "        \"\"\"\n",
        "        Constructs the LSTM model.\n",
        "        \"\"\"\n",
        "        # Create a padded sequence of the joke\n",
        "        tokeniser = Tokenizer()\n",
        "        tokeniser.fit_on_texts(self.data['clean_text'])\n",
        "        vocab_size = len(tokeniser.word_index) + 1\n",
        "        print(\"Vocabulary size: \", vocab_size)\n",
        "\n",
        "        # pad the sequences to the same length\n",
        "        ret = tokeniser.texts_to_sequences(self.data['clean_text'])\n",
        "\n",
        "        data_padded = pad_sequences(ret, maxlen=max_length) #, padding='post')\n",
        "        print(\"Data padded shape: \", data_padded.shape)\n",
        "\n",
        "        # Create the embeddings matrix\n",
        "        embedding_matrix = np.zeros((vocab_size, max_length))\n",
        "        for word, i in tokeniser.word_index.items():\n",
        "            embedding_vector = self.word_vec.get(word)\n",
        "            if embedding_vector is not None:\n",
        "                embedding_matrix[i] = embedding_vector\n",
        "\n",
        "\n",
        "        Y = self.data['funny']\n",
        "        x_train, x_test, y_train, y_test = train_test_split(data_padded, \n",
        "                                                            Y, test_size=config['test_p'], \n",
        "                                                            random_state=42)\n",
        "\n",
        "\n",
        "        # Create the model\n",
        "        # LSTM Model with 2 Layers.\n",
        "        self.model = Sequential()\n",
        "        self.model.add(Embedding(input_dim=vocab_size, output_dim=max_length, input_length=max_length, \n",
        "                            weights=[embedding_matrix], trainable=False))\n",
        "        self.model.add(LSTM(units=50, return_sequences=True))\n",
        "        self.model.add(LSTM(units=10))\n",
        "        self.model.add(Dropout(0.5))\n",
        "        self.model.add(Dense(units=1, activation='sigmoid'))\n",
        "        self.model.compile(loss='binary_crossentropy', optimizer='adam', metrics=['accuracy'])\n",
        "        self.model.summary()\n",
        "        self.model.fit(x_train, y_train,epochs=config['epochs'], batch_size=config['batch_size'], verbose='auto', validation_split=config['val_p'])\n",
        "\n",
        "        self.model.save(config['model_path']) # save the model\n",
        "        self.evaluate_model(x_test, y_test, max_length) # evaluate the model\n",
        "\n",
        "\n",
        "    def evaluate_model(self, X_test, y_test, max_length):\n",
        "        \"\"\"\n",
        "        Evaluates the model. (Precision, recall, f1 score)\n",
        "        \"\"\"\n",
        "        scores = self.model.evaluate(X_test, y_test)\n",
        "        print(\"Accuracy: %.2f%%\" % (scores[1] * 100))\n",
        "\n",
        "        # Print Precision and Recall\n",
        "        y_pred = self.model.predict(X_test)\n",
        "        y_pred = np.round(y_pred)\n",
        "\n",
        "        precision = precision_score(y_test, y_pred)\n",
        "        recall = recall_score(y_test, y_pred)\n",
        "        f1 = f1_score(y_test, y_pred)\n",
        "\n",
        "        print(\"Precision: %.2f%%\" % (precision * 100))\n",
        "        print(\"Recall: %.2f%%\" % (recall * 100))\n",
        "        print(\"F1-Score: %.2f%%\" % (f1 * 100))\n",
        "\n",
        "        # self.save_data(max_length, scores, precision, recall, f1) # Save the model data for live demo.\n",
        "\n",
        "    def save_data(self, max_length, accuracy, precision, recall, f1):\n",
        "        \"\"\"\n",
        "        Saves the data.\n",
        "        \"\"\"\n",
        "        # Add in dataframe master_df max_len, accuracy, precision, recall, f1-score\n",
        "        ret = pd.DataFrame(columns=['max_len', 'accuracy', 'precision', 'recall', 'f1-score'])\n",
        "        ret.loc[0] = [max_length, accuracy, precision, recall, f1]\n",
        "        ret.to_csv(config['data_path'])\n",
        "        \n",
        "        # save the tokenizer\n",
        "        with open(config['tokenizer_path'], 'wb') as handle:\n",
        "            pickle.dump(self.tokenizer, handle, protocol=pickle.HIGHEST_PROTOCOL)"
      ]
    },
    {
      "cell_type": "markdown",
      "metadata": {
        "id": "rCHGiS2LbQbZ"
      },
      "source": [
        "### Read Data and pre-process it."
      ]
    },
    {
      "cell_type": "code",
      "execution_count": 12,
      "metadata": {
        "colab": {
          "base_uri": "https://localhost:8080/"
        },
        "id": "gPmtwU98bPvi",
        "outputId": "bdd0f0bd-abfc-4fc2-b6fc-fce883eca7b5"
      },
      "outputs": [],
      "source": [
        "# SETTINGS for local machine - change this for Goolg Colab\n",
        "path = \"dataset/final_jokes(2918).csv\"\n",
        "# path = \"dataset/final_jokes_and_facts(2918).csv\"\n",
        "\n",
        "\n",
        "joke_model = LSTM_model(path)\n",
        "joke_model.read_dataset()\n",
        "\n",
        "max_length_joke = joke_model.data['token_count'].max()\n",
        "# joke_model.get_vocabulary()"
      ]
    },
    {
      "cell_type": "markdown",
      "metadata": {
        "id": "qlvuGfA1bTjV"
      },
      "source": [
        "### Construct the word2vec embedding vector and train the LSTM model"
      ]
    },
    {
      "cell_type": "code",
      "execution_count": 13,
      "metadata": {
        "colab": {
          "base_uri": "https://localhost:8080/"
        },
        "id": "lX9FyZMl1K3F",
        "outputId": "17d042d3-8d2b-4998-8304-610226b798d6"
      },
      "outputs": [
        {
          "name": "stdout",
          "output_type": "stream",
          "text": [
            "X shape:  (2918,)\n",
            "y shape:  (2918,)\n",
            "Vocabulary size:  73\n",
            "Vocabulary size:  5777\n",
            "Data padded shape:  (2918, 134)\n",
            "Model: \"sequential_2\"\n",
            "_________________________________________________________________\n",
            " Layer (type)                Output Shape              Param #   \n",
            "=================================================================\n",
            " embedding_2 (Embedding)     (None, 134, 134)          774118    \n",
            "                                                                 \n",
            " lstm_4 (LSTM)               (None, 134, 50)           37000     \n",
            "                                                                 \n",
            " lstm_5 (LSTM)               (None, 10)                2440      \n",
            "                                                                 \n",
            " dropout_2 (Dropout)         (None, 10)                0         \n",
            "                                                                 \n",
            " dense_2 (Dense)             (None, 1)                 11        \n",
            "                                                                 \n",
            "=================================================================\n",
            "Total params: 813,569\n",
            "Trainable params: 39,451\n",
            "Non-trainable params: 774,118\n",
            "_________________________________________________________________\n",
            "Epoch 1/3\n",
            "30/30 [==============================] - 7s 146ms/step - loss: 0.6898 - accuracy: 0.5329 - val_loss: 0.6873 - val_accuracy: 0.5256\n",
            "Epoch 2/3\n",
            "30/30 [==============================] - 3s 115ms/step - loss: 0.6858 - accuracy: 0.5552 - val_loss: 0.6831 - val_accuracy: 0.5385\n",
            "Epoch 3/3\n",
            "30/30 [==============================] - 4s 124ms/step - loss: 0.6801 - accuracy: 0.5567 - val_loss: 0.6769 - val_accuracy: 0.5513\n",
            "19/19 [==============================] - 1s 39ms/step - loss: 0.6629 - accuracy: 0.6062\n",
            "Accuracy: 60.62%\n",
            "Precision: 69.93%\n",
            "Recall: 34.84%\n",
            "F1-Score: 46.51%\n"
          ]
        }
      ],
      "source": [
        "joke_model.w2v_model(max_length_joke)\n",
        "joke_model.LSTM_model(max_length_joke)"
      ]
    },
    {
      "cell_type": "code",
      "execution_count": null,
      "metadata": {},
      "outputs": [],
      "source": []
    }
  ],
  "metadata": {
    "colab": {
      "name": "2c_word2vec.ipynb",
      "provenance": []
    },
    "interpreter": {
      "hash": "a3a52a35f691380e40dee258b5f482ebea5e8d938b654dd4fe14bb13e1a5bfa7"
    },
    "kernelspec": {
      "display_name": "Python 3.9.7 64-bit",
      "language": "python",
      "name": "python3"
    },
    "language_info": {
      "codemirror_mode": {
        "name": "ipython",
        "version": 3
      },
      "file_extension": ".py",
      "mimetype": "text/x-python",
      "name": "python",
      "nbconvert_exporter": "python",
      "pygments_lexer": "ipython3",
      "version": "3.9.7"
    },
    "orig_nbformat": 4
  },
  "nbformat": 4,
  "nbformat_minor": 0
}
