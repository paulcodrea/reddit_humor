{
  "cells": [
    {
      "cell_type": "markdown",
      "metadata": {
        "colab_type": "text",
        "id": "view-in-github"
      },
      "source": [
        "<a href=\"https://colab.research.google.com/github/paulcodrea/reddit_humor/blob/main/Humour_detection.ipynb\" target=\"_parent\"><img src=\"https://colab.research.google.com/assets/colab-badge.svg\" alt=\"Open In Colab\"/></a>"
      ]
    },
    {
      "cell_type": "code",
      "execution_count": 2,
      "metadata": {
        "id": "GoyjEHw0iqih"
      },
      "outputs": [],
      "source": [
        "# Get reddit /r/dadjokes data\n",
        "import requests\n",
        "import pandas as pd\n",
        "\n",
        "url = \"https://www.reddit.com/r/dadjokes.json\"\n",
        "resp = requests.get(url=url, headers = {'User-agent': 'Humour detection bot'})\n",
        "data = resp.json()"
      ]
    },
    {
      "cell_type": "code",
      "execution_count": 26,
      "metadata": {},
      "outputs": [],
      "source": [
        "df = pd.DataFrame(data['data']['children'])\n",
        "df = df[['data']]\n",
        "\n",
        "clean_df = pd.DataFrame()\n",
        "\n",
        "clean_df['title'] = df['data'].apply(lambda x: x['title'])\n",
        "clean_df['selftext'] = df['data'].apply(lambda x: x['selftext'])\n",
        "clean_df['ups'] = df['data'].apply(lambda x: x['ups'])\n",
        "clean_df['downs'] = df['data'].apply(lambda x: x['downs'])\n",
        "clean_df['upvote_ratio'] = df['data'].apply(lambda x: x['upvote_ratio'])\n",
        "clean_df['total_awards_received'] = df['data'].apply(lambda x: x['total_awards_received'])\n",
        "# print(clean_df)"
      ]
    },
    {
      "cell_type": "code",
      "execution_count": 30,
      "metadata": {},
      "outputs": [
        {
          "name": "stdout",
          "output_type": "stream",
          "text": [
            "Number of jokes with upvotes different from zero:  25\n",
            "Number of jokes with downvotes different from zero:  0\n"
          ]
        },
        {
          "data": {
            "image/png": "[encoded data removed]",
            "text/plain": [
              "<Figure size 720x720 with 1 Axes>"
            ]
          },
          "metadata": {},
          "output_type": "display_data"
        }
      ],
      "source": [
        "# print out as a pie chart how many jokes are funny or not\n",
        "from matplotlib import pyplot as plt\n",
        "\n",
        "# calculate number of posts with upvotes different grater than downvotes\n",
        "funny = clean_df[clean_df['ups'] > clean_df['downs']]\n",
        "not_funny = clean_df[clean_df['ups'] <= clean_df['downs']]\n",
        "\n",
        "#calculate how many have only upvotes and zero downvotes\n",
        "upvotes_count = downvotes_count = 0\n",
        "for line in clean_df.iterrows():\n",
        "    if int(line[1]['downs']) != 0:\n",
        "        downvotes_count += 1\n",
        "    elif int(line[1]['ups']) != 0:\n",
        "        upvotes_count += 1\n",
        "\n",
        "print(\"Number of jokes with upvotes different from zero: \", upvotes_count)\n",
        "print(\"Number of jokes with downvotes different from zero: \", downvotes_count)\n",
        "\n",
        "\n",
        "funny_percentage = len(funny) / len(clean_df) * 100\n",
        "not_funny_percentage = len(not_funny) / len(clean_df) * 100\n",
        "\n",
        "# set size of pie chart\n",
        "plt.figure(figsize=(10,10))\n",
        "plt.pie([funny_percentage, not_funny_percentage], labels=['funny', 'not funny'], autopct='%1.1f%%', colors=['green', 'red'])\n",
        "plt.show()"
      ]
    },
    {
      "cell_type": "code",
      "execution_count": null,
      "metadata": {},
      "outputs": [],
      "source": []
    }
  ],
  "metadata": {
    "colab": {
      "include_colab_link": true,
      "name": "Humour_detection.ipynb",
      "provenance": []
    },
    "kernelspec": {
      "display_name": "Python 3",
      "name": "python3"
    },
    "language_info": {
      "codemirror_mode": {
        "name": "ipython",
        "version": 3
      },
      "file_extension": ".py",
      "mimetype": "text/x-python",
      "name": "python",
      "nbconvert_exporter": "python",
      "pygments_lexer": "ipython3",
      "version": "3.9.7"
    }
  },
  "nbformat": 4,
  "nbformat_minor": 0
}
