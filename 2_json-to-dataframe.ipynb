{
  "cells": [
    {
      "cell_type": "markdown",
      "metadata": {
        "colab_type": "text",
        "id": "view-in-github"
      },
      "source": [
        "<a href=\"https://colab.research.google.com/github/paulcodrea/reddit_humor/blob/main/Humour_detection.ipynb\" target=\"_parent\"><img src=\"https://colab.research.google.com/assets/colab-badge.svg\" alt=\"Open In Colab\"/></a>"
      ]
    },
    {
      "cell_type": "code",
      "execution_count": 6,
      "metadata": {
        "id": "GoyjEHw0iqih"
      },
      "outputs": [],
      "source": [
        "# Get reddit /r/dadjokes data\n",
        "import requests\n",
        "import pandas as pd\n",
        "\n",
        "url = \"https://www.reddit.com/r/dadjokes.json\"\n",
        "resp = requests.get(url=url, headers = {'User-agent': 'Humour detection bot'})\n",
        "data = resp.json()"
      ]
    },
    {
      "cell_type": "code",
      "execution_count": 40,
      "metadata": {},
      "outputs": [
        {
          "name": "stdout",
          "output_type": "stream",
          "text": [
            "Index(['title', 'selftext', 'ups', 'downs', 'upvote_ratio',\n",
            "       'total_awards_received'],\n",
            "      dtype='object')\n"
          ]
        }
      ],
      "source": [
        "df = pd.DataFrame(data['data']['children'])\n",
        "df = df[['data']]\n",
        "\n",
        "clean_df = pd.DataFrame()\n",
        "\n",
        "clean_df['title'] = df['data'].apply(lambda x: x['title'])\n",
        "clean_df['selftext'] = df['data'].apply(lambda x: x['selftext'])\n",
        "clean_df['ups'] = df['data'].apply(lambda x: x['ups'])\n",
        "clean_df['downs'] = df['data'].apply(lambda x: x['downs'])\n",
        "clean_df['upvote_ratio'] = df['data'].apply(lambda x: x['upvote_ratio'])\n",
        "clean_df['total_awards_received'] = df['data'].apply(lambda x: x['total_awards_received'])\n",
        "\n",
        "\n",
        "print(clean_df.columns)"
      ]
    }
  ],
  "metadata": {
    "colab": {
      "include_colab_link": true,
      "name": "Humour_detection.ipynb",
      "provenance": []
    },
    "kernelspec": {
      "display_name": "Python 3",
      "name": "python3"
    },
    "language_info": {
      "codemirror_mode": {
        "name": "ipython",
        "version": 3
      },
      "file_extension": ".py",
      "mimetype": "text/x-python",
      "name": "python",
      "nbconvert_exporter": "python",
      "pygments_lexer": "ipython3",
      "version": "3.9.7"
    }
  },
  "nbformat": 4,
  "nbformat_minor": 0
}
