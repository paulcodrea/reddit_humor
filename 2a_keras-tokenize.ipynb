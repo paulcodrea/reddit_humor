{
  "cells": [
    {
      "cell_type": "markdown",
      "metadata": {
        "colab_type": "text",
        "id": "view-in-github"
      },
      "source": [
        "<a href=\"https://colab.research.google.com/github/paulcodrea/reddit_humor/blob/main/2a_keras-tokenize.ipynb\" target=\"_parent\"><img src=\"https://colab.research.google.com/assets/colab-badge.svg\" alt=\"Open In Colab\"/></a>"
      ]
    },
    {
      "cell_type": "code",
      "execution_count": 75,
      "metadata": {
        "colab": {
          "base_uri": "https://localhost:8080/"
        },
        "id": "kTI_jxV_7R56",
        "outputId": "e7b42c12-5733-43f5-d117-e0fc34437707"
      },
      "outputs": [
        {
          "name": "stderr",
          "output_type": "stream",
          "text": [
            "[nltk_data] Downloading package punkt to\n",
            "[nltk_data]     C:\\Users\\paulc\\AppData\\Roaming\\nltk_data...\n",
            "[nltk_data]   Package punkt is already up-to-date!\n"
          ]
        }
      ],
      "source": [
        "import pandas as pd\n",
        "import numpy as np\n",
        "# import emoji\n",
        "import re\n",
        "import pickle\n",
        "\n",
        "import nltk\n",
        "nltk.download('punkt')\n",
        "\n",
        "from keras.models import Sequential, load_model\n",
        "from keras.layers.core import Dense, Dropout \n",
        "from keras.layers import LSTM, Embedding\n",
        "\n",
        "from sklearn.model_selection import train_test_split\n",
        "\n",
        "from nltk.tokenize import word_tokenize\n",
        "\n",
        "from keras.preprocessing.text import Tokenizer\n",
        "from keras.preprocessing.sequence import pad_sequences\n",
        "\n",
        "from sklearn.metrics import precision_score, recall_score, f1_score\n"
      ]
    },
    {
      "cell_type": "code",
      "execution_count": 76,
      "metadata": {
        "colab": {
          "base_uri": "https://localhost:8080/"
        },
        "id": "ZvpRiHqs53Vu",
        "outputId": "ccc504f4-a943-47e8-dcf2-cdbfdbcec83e"
      },
      "outputs": [],
      "source": [
        "# from google.colab import drive\n",
        "# drive.mount('/content/drive')"
      ]
    },
    {
      "cell_type": "code",
      "execution_count": 77,
      "metadata": {
        "id": "ZzV9t8t87ZOw"
      },
      "outputs": [],
      "source": [
        "# We might have to change the following\n",
        "\n",
        "config = {\n",
        "    \"learning_rate\": 0.001,\n",
        "    \"epochs\": 5, \n",
        "    \"batch_size\": 50,\n",
        "    \"test_p\": 0.2,\n",
        "    \"val_p\": 0.1,\n",
        "    \"LSTM_layer\": [50, 100],\n",
        "    \"Dropout_layer\": [0.15, 0.2],\n",
        "    \"activation\": 'softmax',\n",
        "    ##################### SAVE FOR LIVE DEMO #############################\n",
        "    \"model_path\": './model/2a_model.h5',\n",
        "    \"tokenizer_path\": './model/2a_tokenizer.pickle',\n",
        "    \"data_path\": \"model/2a_data.csv\",\n",
        "}"
      ]
    },
    {
      "cell_type": "code",
      "execution_count": 78,
      "metadata": {
        "id": "_McP__5n5US1"
      },
      "outputs": [],
      "source": [
        "class LSTM_model:\n",
        "    def __init__(self, path):\n",
        "        \"\"\"\n",
        "        Initializes the class.\n",
        "        \"\"\"\n",
        "        self.path = path # Path to the dataset\n",
        "        self.data = pd.DataFrame() # Dataframe to store the dataset\n",
        "        # self.master_df = pd.DataFrame()\n",
        "\n",
        "        # self.context_window = 3 # Context window size\n",
        "        # self.w2v_feature_vector = []\n",
        "        self.vocabulary_size = 0\n",
        "        self.tokenizer = Tokenizer(num_words=None, split=' ')\n",
        "\n",
        "        self.jokes_to_numerical = []\n",
        "        self.model = None\n",
        "\n",
        "\n",
        "    def read_dataset(self):\n",
        "        \"\"\"\n",
        "        Reads the dataset from the given path.\n",
        "        \"\"\"\n",
        "        ret = pd.read_csv(self.path)\n",
        "        ret.drop(columns=['Unnamed: 0'], inplace=True)\n",
        "\n",
        "        # randomize the data set and take the first 10 rows\n",
        "        ret = ret.sample(frac=1, ignore_index=True)#.head(10)\n",
        "        self.data = ret\n",
        "\n",
        "        \n",
        "    def preprocess_text(self):\n",
        "        \"\"\"\n",
        "        Preprocesses the text data.\n",
        "        \"\"\"\n",
        "        emoji_pattern = re.compile(\"[\"\n",
        "        u\"\\U0001F600-\\U0001F64F\"  # emoticons\n",
        "        u\"\\U0001F300-\\U0001F5FF\"  # symbols & pictographs\n",
        "        u\"\\U0001F680-\\U0001F6FF\"  # transport & map symbols\n",
        "        u\"\\U0001F1E0-\\U0001F1FF\"  # flags (iOS)\n",
        "        \"]+\", flags=re.UNICODE)\n",
        "\n",
        "\n",
        "        # Remove URLs.\n",
        "        self.data['text'] = self.data['joke'].apply(lambda x: ' '.join(word for word in x.split() if not word.startswith('http')))\n",
        "        self.data['tokens'] = self.data['text'].apply(word_tokenize)\n",
        "        self.data['tokens'] = self.data['tokens'].apply(lambda x: ' '.join(word for word in x if not re.search(emoji_pattern, word))) # remove emojis\n",
        "        self.data['tokens'] = self.data['tokens'].apply(word_tokenize) # tokenize the text again\n",
        "\n",
        "\n",
        "    def get_max_tokens(self):\n",
        "        \"\"\"\n",
        "        Returns the maximum number of tokens in the dataset.\n",
        "        \"\"\"\n",
        "        self.data['max_tokens'] = 0\n",
        "        # create a new column in the dataframe with max tokens per row. and count only if the token isalpha()\n",
        "        for index, row in self.data.iterrows():\n",
        "            count = 0\n",
        "            for token in row['tokens']:\n",
        "                if token.isalpha():\n",
        "                    count += 1\n",
        "            self.data['max_tokens'][index] = count\n",
        "\n",
        "    def set_vocabulary_size(self, size):\n",
        "        \"\"\"\n",
        "        Sets the vocabulary size.\n",
        "        \"\"\"\n",
        "        self.vocabulary_size = size\n",
        "\n",
        "\n",
        "    def convert_jokes_to_numerical(self):\n",
        "        \"\"\"\n",
        "        Converts the jokes to numerical values.\n",
        "        \"\"\"\n",
        "        self.tokenizer.fit_on_texts(self.data['joke'].values)\n",
        "        self.jokes_to_numerical = self.tokenizer.texts_to_sequences(self.data['joke'].values)\n",
        "\n",
        "        # get vocabulary size\n",
        "        self.vocabulary_size = len(self.tokenizer.word_index) + 1\n",
        "\n",
        "\n",
        "    def pad_sequences(self, max_length):\n",
        "        \"\"\"\n",
        "        Pads the sequences.\n",
        "        \"\"\"\n",
        "        self.jokes_to_numerical = pad_sequences(self.jokes_to_numerical, maxlen=max_length, padding='post')\n",
        "\n",
        "\n",
        "    def gen_pad_sequences(self, text, max_length):\n",
        "        \"\"\"\n",
        "        Generates padded sequences.\n",
        "        \"\"\"\n",
        "        return pad_sequences(text, maxlen=max_length, padding='post')\n",
        "\n",
        "    def split_dataset(self, X_dataset, y_dataset):\n",
        "        \"\"\"\n",
        "        Splits the dataset into training and testing sets.\n",
        "        \"\"\"\n",
        "        X = X_dataset\n",
        "        y = y_dataset\n",
        "        X_train, X_test, y_train, y_test = train_test_split(X, y, test_size=config['test_p'], random_state=42)\n",
        "\n",
        "        return X_train, X_test, y_train, y_test\n",
        "\n",
        "\n",
        "    def LSTM_model(self, max_length):\n",
        "        \"\"\"\n",
        "        Splits the data into train and validation sets.\n",
        "        Constructs the LSTM model.\n",
        "        \"\"\"\n",
        "        X_train, X_test, y_train, y_test = self.split_dataset(X_dataset=self.jokes_to_numerical, y_dataset=self.data['funny'])\n",
        "\n",
        "        self.model = Sequential()\n",
        "        self.model.add(Embedding(input_dim=self.vocabulary_size, output_dim=max_length, input_length=int(X_train.shape[1])))\n",
        "        self.model.add(Dropout(config['Dropout_layer'][0]))\n",
        "        self.model.add(LSTM(config['LSTM_layer'][1], activation=config['activation']))\n",
        "        self.model.add(Dropout(config['Dropout_layer'][1]))\n",
        "        self.model.add(Dense(units=1, activation=config['activation']))\n",
        "        self.model.compile(loss='binary_crossentropy', optimizer='adam', metrics=['accuracy'])\n",
        "\n",
        "        self.model.fit(X_train, y_train, epochs=config['epochs'], batch_size=config['batch_size'], verbose='auto', validation_split=config['val_p'])\n",
        "\n",
        "        self.model.save(config['model_path']) # save the model\n",
        "        self.evaluate_model(X_test, y_test, max_length) # evaluate the model\n",
        "\n",
        "\n",
        "    def evaluate_model(self, X_test, y_test, max_length):\n",
        "        \"\"\"\n",
        "        Evaluates the model.\n",
        "        \"\"\"\n",
        "        scores = self.model.evaluate(X_test, y_test)\n",
        "        print(\"Accuracy: %.2f%%\" % (scores[1] * 100))\n",
        "\n",
        "        # Print Precision and Recall\n",
        "        y_pred = self.model.predict(X_test)\n",
        "        y_pred = np.round(y_pred)\n",
        "\n",
        "        precision = precision_score(y_test, y_pred)\n",
        "        recall = recall_score(y_test, y_pred)\n",
        "        f1 = f1_score(y_test, y_pred)\n",
        "\n",
        "        print(\"Precision: %.2f%%\" % (precision * 100))\n",
        "        print(\"Recall: %.2f%%\" % (recall * 100))\n",
        "        print(\"F1-Score: %.2f%%\" % (f1 * 100))\n",
        "\n",
        "        # Save data\n",
        "        self.save_data(max_length, scores[1], precision, recall, f1)\n",
        "\n",
        "    def save_data(self, max_length, accuracy, precision, recall, f1):\n",
        "        \"\"\"\n",
        "        Saves the data.\n",
        "        \"\"\"\n",
        "        # Add in dataframe master_df max_len, accuracy, precision, recall, f1-score\n",
        "        ret = pd.DataFrame(columns=['max_len', 'accuracy', 'precision', 'recall', 'f1-score'])\n",
        "        ret.loc[0] = [max_length, accuracy, precision, recall, f1]\n",
        "        ret.to_csv(config['data_path'])\n",
        "        \n",
        "        # save the tokenizer\n",
        "        with open(config['tokenizer_path'], 'wb') as handle:\n",
        "            pickle.dump(self.tokenizer, handle, protocol=pickle.HIGHEST_PROTOCOL)"
      ]
    },
    {
      "cell_type": "markdown",
      "metadata": {},
      "source": [
        "### Read data and pre-process it."
      ]
    },
    {
      "cell_type": "code",
      "execution_count": 79,
      "metadata": {
        "id": "NRyY8hOIG6hX"
      },
      "outputs": [],
      "source": [
        "# SETTINGS for local machine - change this for Goolg Colab\n",
        "path = \"dataset/final_jokes(1283).csv\" \n",
        "#path = \"/content/drive/MyDrive/NLU_Humor-detection/final_jokes(1283).csv\"\n",
        "\n",
        "joke_model = LSTM_model(path)\n",
        "joke_model.read_dataset()"
      ]
    },
    {
      "cell_type": "code",
      "execution_count": 80,
      "metadata": {
        "colab": {
          "base_uri": "https://localhost:8080/"
        },
        "id": "hJL35QEBy-Jz",
        "outputId": "6358218b-1862-4189-da7e-11556634d9e9"
      },
      "outputs": [
        {
          "name": "stderr",
          "output_type": "stream",
          "text": [
            "C:\\Users\\paulc\\AppData\\Local\\Temp/ipykernel_12308/2782490979.py:61: SettingWithCopyWarning: \n",
            "A value is trying to be set on a copy of a slice from a DataFrame\n",
            "\n",
            "See the caveats in the documentation: https://pandas.pydata.org/pandas-docs/stable/user_guide/indexing.html#returning-a-view-versus-a-copy\n",
            "  self.data['max_tokens'][index] = count\n"
          ]
        }
      ],
      "source": [
        "# Preprocess the text. THIS SHOULD BE REMOVED AFTER THE DATASET IS CREATED.\n",
        "joke_model.preprocess_text()\n",
        "joke_model.get_max_tokens()\n",
        "max_length_joke = joke_model.data['max_tokens'].max()\n",
        "\n",
        "# Padding the embedding vector\n",
        "joke_model.convert_jokes_to_numerical()\n",
        "joke_model.pad_sequences(max_length_joke)\n",
        "\n",
        "# Set vocab size\n",
        "# joke_model.set_vocabulary_size(len(vocab))"
      ]
    },
    {
      "cell_type": "markdown",
      "metadata": {},
      "source": [
        "### Construct the embeddings vector for the LSTM model"
      ]
    },
    {
      "cell_type": "code",
      "execution_count": 81,
      "metadata": {},
      "outputs": [
        {
          "name": "stdout",
          "output_type": "stream",
          "text": [
            "Max length of joke:  329\n",
            "Vocabulary size:  4951\n"
          ]
        }
      ],
      "source": [
        "# print(\"_______________________________________________________________________\")\n",
        "print(\"Max length of joke: \", max_length_joke)\n",
        "print(\"Vocabulary size: \", joke_model.vocabulary_size)\n",
        "# print(\"\\nHead of dataframe: \\n\", joke_model.data.head())\n",
        "# print(\"_______________________________________________________________________\")"
      ]
    },
    {
      "cell_type": "markdown",
      "metadata": {},
      "source": [
        "### Train the model & Save the model (for live demo)"
      ]
    },
    {
      "cell_type": "code",
      "execution_count": 82,
      "metadata": {
        "colab": {
          "base_uri": "https://localhost:8080/"
        },
        "id": "LhZV9sGA5UTH",
        "outputId": "3e0c3bb2-516c-455d-dace-c81aa6826b67"
      },
      "outputs": [
        {
          "name": "stdout",
          "output_type": "stream",
          "text": [
            "Epoch 1/5\n",
            "19/19 [==============================] - 21s 974ms/step - loss: 0.6933 - accuracy: 0.5114 - val_loss: 0.6932 - val_accuracy: 0.5243\n",
            "Epoch 2/5\n",
            "19/19 [==============================] - 18s 949ms/step - loss: 0.6932 - accuracy: 0.5114 - val_loss: 0.6931 - val_accuracy: 0.5243\n",
            "Epoch 3/5\n",
            "19/19 [==============================] - 18s 974ms/step - loss: 0.6931 - accuracy: 0.5114 - val_loss: 0.6929 - val_accuracy: 0.5243\n",
            "Epoch 4/5\n",
            "19/19 [==============================] - 18s 963ms/step - loss: 0.6929 - accuracy: 0.5114 - val_loss: 0.6928 - val_accuracy: 0.5243\n",
            "Epoch 5/5\n",
            "19/19 [==============================] - 18s 965ms/step - loss: 0.6930 - accuracy: 0.5114 - val_loss: 0.6928 - val_accuracy: 0.5243\n",
            "9/9 [==============================] - 2s 228ms/step - loss: 0.6912 - accuracy: 0.6109\n",
            "Accuracy: 61.09%\n",
            "Precision: 61.09%\n",
            "Recall: 100.00%\n",
            "F1-Score: 75.85%\n"
          ]
        }
      ],
      "source": [
        "joke_model.LSTM_model(max_length_joke)"
      ]
    }
  ],
  "metadata": {
    "colab": {
      "collapsed_sections": [],
      "include_colab_link": true,
      "name": "LSTM.ipynb",
      "provenance": []
    },
    "interpreter": {
      "hash": "a3a52a35f691380e40dee258b5f482ebea5e8d938b654dd4fe14bb13e1a5bfa7"
    },
    "kernelspec": {
      "display_name": "Python 3.9.7 64-bit",
      "language": "python",
      "name": "python3"
    },
    "language_info": {
      "codemirror_mode": {
        "name": "ipython",
        "version": 3
      },
      "file_extension": ".py",
      "mimetype": "text/x-python",
      "name": "python",
      "nbconvert_exporter": "python",
      "pygments_lexer": "ipython3",
      "version": "3.9.7"
    }
  },
  "nbformat": 4,
  "nbformat_minor": 0
}
