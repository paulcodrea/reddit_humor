{
 "cells": [
  {
   "cell_type": "code",
   "execution_count": 20,
   "metadata": {},
   "outputs": [
    {
     "name": "stderr",
     "output_type": "stream",
     "text": [
      "[nltk_data] Downloading package punkt to\n",
      "[nltk_data]     C:\\Users\\paulc\\AppData\\Roaming\\nltk_data...\n",
      "[nltk_data]   Package punkt is already up-to-date!\n"
     ]
    }
   ],
   "source": [
    "import pandas as pd\n",
    "import numpy as np\n",
    "import pickle\n",
    "import nltk\n",
    "nltk.download('punkt')\n",
    "\n",
    "from sklearn.model_selection import train_test_split\n",
    "\n",
    "from keras.preprocessing.text import Tokenizer\n",
    "from keras.preprocessing.sequence import pad_sequences\n",
    "\n",
    "from sklearn.metrics import precision_score, recall_score, f1_score, accuracy_score\n",
    "from sklearn.ensemble import RandomForestClassifier"
   ]
  },
  {
   "cell_type": "code",
   "execution_count": 26,
   "metadata": {},
   "outputs": [],
   "source": [
    "# We might have to change the following\n",
    "\n",
    "config = {\n",
    "    \"train_p\": 0.7,\n",
    "    \"test_p\": 0.2,\n",
    "    \"val_p\": 0.1,\n",
    "    ##################### SAVE FOR LIVE DEMO #############################\n",
    "    \"model_path\": './model/3_model.pickle',\n",
    "    \"tokenizer_path\": './model/3_tokenizer.pickle',\n",
    "    \"data_path\": \"model/3_data.csv\",\n",
    "}"
   ]
  },
  {
   "cell_type": "code",
   "execution_count": 27,
   "metadata": {},
   "outputs": [],
   "source": [
    "class Random_Forest:\n",
    "    def __init__(self, path):\n",
    "        \"\"\"\n",
    "        Initializes the class.\n",
    "        \"\"\"\n",
    "        self.path = path # Path to the dataset\n",
    "        self.data = pd.DataFrame() # Dataframe to store the dataset\n",
    "\n",
    "        self.vocabulary_size = 0\n",
    "        self.tokenizer = Tokenizer(num_words=None, split=' ')\n",
    "\n",
    "        self.jokes_to_numerical = []\n",
    "        self.model = None\n",
    "\n",
    "\n",
    "    def read_dataset(self):\n",
    "        \"\"\"\n",
    "        Reads the dataset from the given path.\n",
    "        \"\"\"\n",
    "        ret = pd.read_csv(self.path)\n",
    "        ret.drop(columns=['Unnamed: 0'], inplace=True)\n",
    "\n",
    "\n",
    "        count_zero = count_one = 0\n",
    "        # check at which index the joke is 0 or 1\n",
    "        for index, row in ret.iterrows():\n",
    "            if row['funny'] == 0:\n",
    "                count_zero += 1\n",
    "            else:\n",
    "                count_one += 1\n",
    "        print(\"The input has {} jokes with 0 and {} jokes with 1\".format(count_zero, count_one))\n",
    "\n",
    "        self.data = ret\n",
    "\n",
    "\n",
    "    def get_max_tokens(self):\n",
    "        \"\"\"\n",
    "        Returns the maximum number of tokens in the dataset.\n",
    "        \"\"\"\n",
    "        self.data['max_tokens'] = 0\n",
    "        # create a new column in the dataframe with max tokens per row. and count only if the token isalpha()\n",
    "        for index, row in self.data.iterrows():\n",
    "            count = 0\n",
    "            for token in row['tokens']:\n",
    "                if token.isalpha():\n",
    "                    count += 1\n",
    "            self.data['max_tokens'][index] = count\n",
    "\n",
    "\n",
    "    def set_vocabulary_size(self, size):\n",
    "        \"\"\"\n",
    "        Sets the vocabulary size.\n",
    "        \"\"\"\n",
    "        self.vocabulary_size = size\n",
    "\n",
    "\n",
    "    def convert_jokes_to_numerical(self):\n",
    "        \"\"\"\n",
    "        Converts the jokes to numerical values.\n",
    "        \"\"\"\n",
    "        self.tokenizer.fit_on_texts(self.data['clean_text'].values)\n",
    "        self.jokes_to_numerical = self.tokenizer.texts_to_sequences(self.data['clean_text'].values)\n",
    "\n",
    "        # get vocabulary size\n",
    "        self.vocabulary_size = len(self.tokenizer.word_index) + 1\n",
    "\n",
    "\n",
    "    def pad_sequences(self, max_length):\n",
    "        \"\"\"\n",
    "        Pads the sequences.\n",
    "        \"\"\"\n",
    "        self.jokes_to_numerical = pad_sequences(self.jokes_to_numerical, maxlen=max_length, padding='post')\n",
    "\n",
    "\n",
    "    def gen_pad_sequences(self, text, max_length):\n",
    "        \"\"\"\n",
    "        Generates padded sequences.\n",
    "        \"\"\"\n",
    "        return pad_sequences(text, maxlen=max_length, padding='post')\n",
    "\n",
    "\n",
    "    def split_dataset(self, X_dataset, y_dataset):\n",
    "        \"\"\"\n",
    "        Splits the dataset into training and testing sets.\n",
    "        \"\"\"\n",
    "        X = X_dataset\n",
    "        y = y_dataset\n",
    "\n",
    "        # convert X as a numpy array float32\n",
    "        X = np.array(X, dtype=np.float32)\n",
    "        y = np.array(y, dtype=np.float32)\n",
    "\n",
    "        X_train, X_test, y_train, y_test = train_test_split(X, y, test_size=config['test_p'], random_state=42)\n",
    "\n",
    "        return X_train, X_test, y_train, y_test\n",
    "\n",
    "\n",
    "    def random_forest(self, X_train, X_test, y_train, y_test, max_length_joke):\n",
    "        \"\"\"\n",
    "        Trains a random forest model.\n",
    "        \"\"\"\n",
    "        model = RandomForestClassifier(n_estimators=1000, max_depth=5, random_state=42)\n",
    "        model.fit(X_train, y_train)\n",
    "\n",
    "        # predict the test set\n",
    "        y_pred = model.predict(X_test)\n",
    "\n",
    "        accuracy = accuracy_score(y_test, y_pred)\n",
    "        precision = precision_score(y_test, y_pred)\n",
    "        recall = recall_score(y_test, y_pred)\n",
    "        f1 = f1_score(y_test, y_pred)\n",
    "\n",
    "        print(\"Accuracy: {}\".format(accuracy))\n",
    "        print(\"Precision: {}\".format(precision))\n",
    "        print(\"Recall: {}\".format(recall))\n",
    "        print(\"F1: {}\".format(f1))\n",
    "\n",
    "        self.model = model\n",
    "        self.save_data(max_length_joke, accuracy, precision, recall, f1)\n",
    "\n",
    "\n",
    "    def run_model(self, max_length):\n",
    "        \"\"\"\n",
    "        Splits the data into train and validation sets. Trains a random forest model.\n",
    "        \"\"\"\n",
    "        X_train, X_test, y_train, y_test = self.split_dataset(X_dataset=self.jokes_to_numerical, y_dataset=self.data['funny'])\n",
    "        self.random_forest(X_train=X_train, X_test=X_test, y_train=y_train, y_test=y_test, max_length_joke=max_length)\n",
    "\n",
    "\n",
    "    def save_data(self, max_length, accuracy, precision, recall, f1):\n",
    "        \"\"\"\n",
    "        Saves the data.\n",
    "        \"\"\"\n",
    "        # Add in dataframe master_df max_len, accuracy, precision, recall, f1-score\n",
    "        ret = pd.DataFrame(columns=['max_len', 'accuracy', 'precision', 'recall', 'f1-score'])\n",
    "        ret.loc[0] = [max_length, accuracy, precision, recall, f1]\n",
    "        ret.to_csv(config['data_path'])\n",
    "\n",
    "        with open(config['model_path'], 'wb') as handle:\n",
    "            pickle.dump(self.model, handle)\n",
    "        \n",
    "        # save the tokenizer\n",
    "        with open(config['tokenizer_path'], 'wb') as handle:\n",
    "            pickle.dump(self.tokenizer, handle, protocol=pickle.HIGHEST_PROTOCOL)\n"
   ]
  },
  {
   "cell_type": "code",
   "execution_count": 28,
   "metadata": {},
   "outputs": [
    {
     "name": "stdout",
     "output_type": "stream",
     "text": [
      "The input has 1459 jokes with 0 and 1459 jokes with 1\n"
     ]
    }
   ],
   "source": [
    "# SETTINGS for local machine - change this for Goolg Colab\n",
    "path = \"dataset/final_jokes(2918).csv\" \n",
    "\n",
    "joke_model = Random_Forest(path)\n",
    "joke_model.read_dataset()"
   ]
  },
  {
   "cell_type": "code",
   "execution_count": 29,
   "metadata": {},
   "outputs": [
    {
     "name": "stdout",
     "output_type": "stream",
     "text": [
      "Max length of joke:  134\n",
      "Vocabulary size:  5777\n"
     ]
    }
   ],
   "source": [
    "max_length_joke = joke_model.data['token_count'].max()\n",
    "\n",
    "# Padding the embedding vector\n",
    "joke_model.convert_jokes_to_numerical()\n",
    "joke_model.pad_sequences(max_length_joke)\n",
    "\n",
    "\n",
    "print(\"Max length of joke: \", max_length_joke)\n",
    "print(\"Vocabulary size: \", joke_model.vocabulary_size)"
   ]
  },
  {
   "cell_type": "code",
   "execution_count": 30,
   "metadata": {},
   "outputs": [
    {
     "name": "stdout",
     "output_type": "stream",
     "text": [
      "Accuracy: 0.660958904109589\n",
      "Precision: 0.6212534059945504\n",
      "Recall: 0.794425087108014\n",
      "F1: 0.6972477064220183\n"
     ]
    }
   ],
   "source": [
    "joke_model.run_model(max_length_joke)"
   ]
  },
  {
   "cell_type": "code",
   "execution_count": null,
   "metadata": {},
   "outputs": [],
   "source": []
  }
 ],
 "metadata": {
  "interpreter": {
   "hash": "a3a52a35f691380e40dee258b5f482ebea5e8d938b654dd4fe14bb13e1a5bfa7"
  },
  "kernelspec": {
   "display_name": "Python 3.9.7 64-bit",
   "language": "python",
   "name": "python3"
  },
  "language_info": {
   "codemirror_mode": {
    "name": "ipython",
    "version": 3
   },
   "file_extension": ".py",
   "mimetype": "text/x-python",
   "name": "python",
   "nbconvert_exporter": "python",
   "pygments_lexer": "ipython3",
   "version": "3.9.7"
  },
  "orig_nbformat": 4
 },
 "nbformat": 4,
 "nbformat_minor": 2
}
